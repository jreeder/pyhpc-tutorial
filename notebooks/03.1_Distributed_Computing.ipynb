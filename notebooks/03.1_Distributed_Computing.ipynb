{
 "metadata": {
  "name": ""
 },
 "nbformat": 3,
 "nbformat_minor": 0,
 "worksheets": [
  {
   "cells": [
    {
     "cell_type": "markdown",
     "metadata": {
      "slideshow": {
       "slide_type": "slide"
      }
     },
     "source": [
      "# 3.1 Distributed Computing\n",
      "\n",
      "<center>\n",
      "*[This tutorial](https://github.com/pyHPC/pyhpc-tutorial) has been collectively developed by the [PyHPC Community](https://github.com/pyHPC) and is available for reuse under a CC BY license.  \n",
      "All code samples are available for reuse under the terms of the [MIT license](http://opensource.org/licenses/MIT).*  \n",
      "[![Creative Commons License](../figures/creative_commons_logo.png)](http://creativecommons.org/licenses/by/3.0/deed.en_US)</center>"
     ]
    },
    {
     "cell_type": "markdown",
     "metadata": {
      "slideshow": {
       "slide_start": true,
       "slide_type": "slide"
      }
     },
     "source": [
      "## Acknowledgements\n",
      "\n",
      "* Much of this tutorial uses slide material from [William Gropp](http://www.cs.uiuc.edu/~wgropp/), University of Illinois and [Lisandro Dalcin](http://plus.google.com/107621373684536061961/about), CONICET\n",
      "* [mpi4py](http://code.google.com/p/mpi4py/) is a [Cythonized](http://www.cython.org/) wrapper around [MPI](http://www.mpi-forum.org/) originally developed by [Lisandro Dalcin](http://plus.google.com/107621373684536061961/about), CONICET\n"
     ]
    },
    {
     "cell_type": "markdown",
     "metadata": {
      "slideshow": {
       "slide_type": "slide"
      }
     },
     "source": [
      "## Notebook Engine Setup\n",
      "\n",
      "Following the recommendations in PEP 8, we import all Python modules at the beginning of the notebook."
     ]
    },
    {
     "cell_type": "code",
     "collapsed": false,
     "input": [
      "%load_ext parallelmagic\n",
      "%pylab inline --no-import-all"
     ],
     "language": "python",
     "metadata": {},
     "outputs": [
      {
       "output_type": "stream",
       "stream": "stdout",
       "text": [
        "The parallelmagic extension is already loaded. To reload it, use:\n",
        "  %reload_ext parallelmagic\n",
        "Populating the interactive namespace from numpy and matplotlib\n"
       ]
      }
     ],
     "prompt_number": 5
    },
    {
     "cell_type": "code",
     "collapsed": false,
     "input": [
      "import os\n",
      "from mpi4py import MPI\n",
      "import numpy as np\n",
      "from matplotlib import pyplot"
     ],
     "language": "python",
     "metadata": {},
     "outputs": [],
     "prompt_number": 6
    },
    {
     "cell_type": "markdown",
     "metadata": {
      "slideshow": {
       "slide_start": true,
       "slide_type": "slide"
      }
     },
     "source": [
      "## Connecting to MPI via IPython\n",
      "\n",
      "To run the examples in parallel, you must run the command:\n",
      "\n",
      "    ipcluster start --engines=MPI --n 4\n",
      "\n",
      "Or use notebook Appendix_Launch_MPI_Engines \n",
      "(if you are using the VMs or have this configured for your environment).\n",
      "\n",
      "Then execute the next cell:"
     ]
    },
    {
     "cell_type": "code",
     "collapsed": false,
     "input": [
      "from IPython.parallel import Client\n",
      "c = Client()\n",
      "view = c[:]\n",
      "\n",
      "view.activate()\n",
      "view.block = True"
     ],
     "language": "python",
     "metadata": {
      "slideshow": {
       "slide_start": false,
       "slide_step": true
      }
     },
     "outputs": [],
     "prompt_number": 7
    },
    {
     "cell_type": "markdown",
     "metadata": {},
     "source": [
      "There are now 5 IPython Engines (also sometimes called kernels) running: 1 directly connected to the Notebook and 4 started by `ipcluster` and connected via the Client interface. "
     ]
    },
    {
     "cell_type": "markdown",
     "metadata": {
      "slideshow": {
       "slide_type": "slide"
      }
     },
     "source": [
      "## `%autopx` and the `ipcluster` Engines"
     ]
    },
    {
     "cell_type": "markdown",
     "metadata": {},
     "source": [
      "For interactive convenience, we will use the `autopx` magic from the `parallelmagic` extensions.  We can use the `autopx` magic to execute cells on the ipcluster Engines instead of the Notebook Engines.  "
     ]
    },
    {
     "cell_type": "code",
     "collapsed": false,
     "input": [
      "os.getpid()"
     ],
     "language": "python",
     "metadata": {},
     "outputs": [
      {
       "metadata": {},
       "output_type": "pyout",
       "prompt_number": 8,
       "text": [
        "22158"
       ]
      }
     ],
     "prompt_number": 8
    },
    {
     "cell_type": "code",
     "collapsed": false,
     "input": [
      "%autopx"
     ],
     "language": "python",
     "metadata": {
      "slideshow": {
       "slide_start": false
      }
     },
     "outputs": [
      {
       "output_type": "stream",
       "stream": "stdout",
       "text": [
        "%autopx enabled\n"
       ]
      }
     ],
     "prompt_number": 9
    },
    {
     "cell_type": "markdown",
     "metadata": {
      "slideshow": {
       "slide_start": false,
       "slide_step": true
      }
     },
     "source": [
      "Recall that when we used `import` earlier it was on the Notebook Engine.  Before we can call `os.getpid` on the ipcluster Engines, we need to import `os` and any other modules we would like to use.  "
     ]
    },
    {
     "cell_type": "code",
     "collapsed": false,
     "input": [
      "import os\n",
      "#We will use mpi4py, numpy, and math later\n",
      "from mpi4py import MPI\n",
      "import numpy as np\n",
      "import math"
     ],
     "language": "python",
     "metadata": {},
     "outputs": [],
     "prompt_number": 11
    },
    {
     "cell_type": "code",
     "collapsed": false,
     "input": [
      "os.getpid()"
     ],
     "language": "python",
     "metadata": {},
     "outputs": [
      {
       "metadata": {},
       "output_type": "display_data",
       "text": [
        "\u001b[0;31mOut[0:3]: \u001b[0m22398"
       ]
      },
      {
       "metadata": {},
       "output_type": "display_data",
       "text": [
        "\u001b[0;31mOut[1:3]: \u001b[0m22399"
       ]
      },
      {
       "metadata": {},
       "output_type": "display_data",
       "text": [
        "\u001b[0;31mOut[2:3]: \u001b[0m22400"
       ]
      },
      {
       "metadata": {},
       "output_type": "display_data",
       "text": [
        "\u001b[0;31mOut[3:3]: \u001b[0m22397"
       ]
      }
     ],
     "prompt_number": 12
    },
    {
     "cell_type": "markdown",
     "metadata": {
      "slideshow": {
       "slide_start": true,
       "slide_type": "slide"
      }
     },
     "source": [
      "# A Quick Review of Concepts of Scalability"
     ]
    },
    {
     "cell_type": "markdown",
     "metadata": {
      "slideshow": {
       "slide_start": true,
       "slide_type": "slide"
      }
     },
     "source": [
      "# The Multiple Forms of Parallelism\n",
      "\n",
      "* **instruction** - multiple program instructions are simultaneously dispatched in a pipeline or to multiple execution units (superscalar)\n",
      "* **data** - the same program instructions are carried out simultaneously on multiple data items (SIMD)\n",
      "* **task** - different program instructions on different data (MIMD)\n",
      "* **collective** - single program, multiple data, not necessarily synchronized at individual operation level (SPMD)"
     ]
    },
    {
     "cell_type": "markdown",
     "metadata": {
      "slideshow": {
       "slide_start": false,
       "slide_step": true,
       "slide_type": "fragment"
      }
     },
     "source": [
      "> *This part of the tutorial focuses on data and collective parallelism*"
     ]
    },
    {
     "cell_type": "markdown",
     "metadata": {
      "slideshow": {
       "slide_start": true,
       "slide_type": "slide"
      }
     },
     "source": [
      "# Parallel Programming Paradigms\n",
      "\n",
      "* a parallel programming paradigm is a specific approach to exploiting parallelism in hardware\n",
      "* many programming paradigms are very tightly coupled to the hardware beneath!\n",
      "  \n",
      " - CUDA assumes large register files, Same Instruction Multiple Thread parallelism, and a mostly flat, structured memory model, matching the underlying GPU hardware\n",
      "\n",
      " - OpenMP exposes loop level parallelism with a fork/join model, assumes the presence of shared memory and atomics\n",
      "\n",
      " - OpenCL tries to generalize CUDA, but still assumes a 'coprocessor' approach, where kernels are shipped from a master core to worker cores\n"
     ]
    },
    {
     "cell_type": "markdown",
     "metadata": {
      "slideshow": {
       "slide_start": true,
       "slide_type": "slide"
      }
     },
     "source": [
      "## The Message Passing Model\n",
      "\n",
      "* a process is (traditionally) a program counter for instructions and an address space for data\n",
      "* processes may have multiple threads (program counters and associated stacks) sharing a single address space\n",
      "* message passing is for communication among processes, which have separate address spaces\n",
      "* interprocess communication consists of\n",
      "  \n",
      "  - synchronization\n",
      "  - movement of data from one process's address space to another's\n"
     ]
    },
    {
     "cell_type": "markdown",
     "metadata": {
      "slideshow": {
       "slide_start": true,
       "slide_type": "slide"
      }
     },
     "source": [
      "## Why MPI?\n",
      "\n",
      "* **communicators** encapsulate communication spaces for library safety\n",
      "* **datatypes** reduce copying costs and permit heterogeneity\n",
      "* multiple **communication modes** allow more control of memory buffer management\n",
      "* extensive **collective operations** for scalable global communication\n",
      "* **process topologies** permit efficient process placement, user views of process layout\n",
      "* **profiling interface** encourages portable tools\n",
      "\n",
      "It Scales!"
     ]
    },
    {
     "cell_type": "markdown",
     "metadata": {
      "slideshow": {
       "slide_start": true,
       "slide_type": "slide"
      }
     },
     "source": [
      "## MPI - Quick Review\n",
      "\n",
      "* processes can be collected into **groups**\n",
      "* each message is sent in a **context**, and must be received in the same context\n",
      "* a  **communicator** encapsulates a context for a specific group\n",
      "* a given program may have many communicators with any level of overlap\n",
      "* two initial communicators\n",
      " \n",
      "  - `MPI_COMM_WORLD` (all processes)\n",
      "  - `MPI_COMM_SELF` (current process)\n",
      "  \n",
      "In Python, these communicators are `MPI.COMM_WORLD and MPI.COMM_SELF`"
     ]
    },
    {
     "cell_type": "markdown",
     "metadata": {
      "slideshow": {
       "slide_type": "slide"
      }
     },
     "source": [
      "## Communicator, Rank, and Size Setup\n",
      "\n",
      "We'll be using the `MPI.COMM_WORLD` communicator as `comm` for the remainder of this notebook.  It's also very common to use the communicator's associated rank and size attributes as `rank` and `size`.  We'll assign these variables now to simplify the readability of the code."
     ]
    },
    {
     "cell_type": "code",
     "collapsed": false,
     "input": [
      "comm = MPI.COMM_WORLD\n",
      "size = comm.Get_size()\n",
      "rank = comm.Get_rank()"
     ],
     "language": "python",
     "metadata": {},
     "outputs": [],
     "prompt_number": 18
    },
    {
     "cell_type": "markdown",
     "metadata": {
      "slideshow": {
       "slide_start": true,
       "slide_type": "slide"
      }
     },
     "source": [
      "## First Example: Hello World"
     ]
    },
    {
     "cell_type": "code",
     "collapsed": false,
     "input": [
      "# set up basic variables\n",
      "name = MPI.Get_processor_name()\n",
      "pid = os.getpid()"
     ],
     "language": "python",
     "metadata": {
      "slideshow": {
       "slide_start": false
      }
     },
     "outputs": [],
     "prompt_number": 19
    },
    {
     "cell_type": "code",
     "collapsed": false,
     "input": [
      "print(\"Hello World! I am process %d of %d on %s with pid %d.\\n\" % (rank, size, name, pid))"
     ],
     "language": "python",
     "metadata": {},
     "outputs": [
      {
       "output_type": "stream",
       "stream": "stdout",
       "text": [
        "[stdout:0] \n",
        "Hello World! I am process 1 of 4 on Arons-MacBook-Pro.local with pid 22398.\n",
        "\n",
        "[stdout:1] \n",
        "Hello World! I am process 2 of 4 on Arons-MacBook-Pro.local with pid 22399.\n",
        "\n",
        "[stdout:2] \n",
        "Hello World! I am process 3 of 4 on Arons-MacBook-Pro.local with pid 22400.\n",
        "\n",
        "[stdout:3] \n",
        "Hello World! I am process 0 of 4 on Arons-MacBook-Pro.local with pid 22397.\n",
        "\n"
       ]
      }
     ],
     "prompt_number": 20
    },
    {
     "cell_type": "markdown",
     "metadata": {},
     "source": [
      "Note that the MPI rank is not necessarily synchronized with the IPython view rank."
     ]
    },
    {
     "cell_type": "markdown",
     "metadata": {
      "slideshow": {
       "slide_start": true,
       "slide_type": "slide"
      }
     },
     "source": [
      "## Communicators\n",
      "\n",
      "* processes can be collected into **groups**\n",
      "* each message is sent in a **context**, and must be received in the same context\n",
      "* a  **communicator** encapsulates a context for a specific group\n",
      "* a given program may have many communicators with any level of overlap\n",
      "* two initial communicators\n",
      " \n",
      "  - ``MPI_COMM_WORLD`` (all processes)\n",
      "  - ``MPI_COMM_SELF`` (current process)"
     ]
    },
    {
     "cell_type": "markdown",
     "metadata": {
      "slideshow": {
       "slide_start": true,
       "slide_type": "slide"
      }
     },
     "source": [
      "## Datatypes\n",
      "\n",
      "* the data in a message to send or receive is described by address, count and datatype\n",
      "* a datatype is recursively defined as:\n",
      "\n",
      "  + predefined, corresponding to a data type from the language (e.g., ``MPI_INT``, ``MPI_DOUBLE``)\n",
      "  + a contiguous, strided block, or indexed array of blocks of MPI datatypes\n",
      "  + an arbitrary structure of datatypes\n",
      "\n",
      "* there are MPI functions to construct custom datatypes"
     ]
    },
    {
     "cell_type": "markdown",
     "metadata": {
      "slideshow": {
       "slide_start": false,
       "slide_type": "slide"
      }
     },
     "source": [
      "## Tags\n",
      "\n",
      "* messages are sent with an accompanying user-defined integer tag to assist the receiving process in identifying the message\n",
      "* messages can be screened at the receiving end by specifying the expected tag, or not screened by using ``MPI_ANY_TAG`` "
     ]
    },
    {
     "cell_type": "markdown",
     "metadata": {
      "slideshow": {
       "slide_start": false,
       "slide_type": "slide"
      }
     },
     "source": [
      "## mpi4py Functionality\n",
      "\n",
      "* Implements up to MPI-3 with underlying MPI implementation support\n",
      "* Generic API with lowercase function names, e.g. `Comm.send`\n",
      "* Efficient API with titlecase function names, e.g. `Comm.Send`\n",
      "  + The efficient API can still handle default arguments and type discovery for NumPy arrays and PEP-3118 buffers"
     ]
    },
    {
     "cell_type": "markdown",
     "metadata": {
      "slideshow": {
       "slide_type": "slide"
      }
     },
     "source": [
      "## Job Startup\n",
      "\n",
      "* To launch:\n",
      "        mpirun --np NP python script_name\n",
      "* IPython automatically handles calling `mpirun` for you with the `ipcluster` command\n",
      "\n",
      "## Initialization\n",
      "`mpi4py` automatically calls `MPI_Init()` and `MPI_Finalize()`\n",
      "\n",
      "* `MPI_Init()` is called when you import the `MPI` module from `mpi4py`\n",
      "* `MPI_Finalize()` is called before the Python process ends\n",
      "* If you need explicit control, use the `mpi4py.rc` module to configure before importing `MPI`"
     ]
    },
    {
     "cell_type": "markdown",
     "metadata": {
      "slideshow": {
       "slide_start": true,
       "slide_step": false,
       "slide_type": "slide"
      }
     },
     "source": [
      "## MPI Basic (Blocking) Send\n",
      "\n",
      "#### C\n",
      "```\n",
      "   int MPI_Send(void* buf, int count, MPI_Datatype type, \n",
      "   int dest, int tag, MPI_Comm comm)\n",
      "```\n",
      "\n",
      "#### mpi4py\n",
      "```\n",
      "  Comm.Send(self, buf, dest=0, tag=0)\n",
      "  Comm.send(self, obj=None, dest=0, tag=0)\n",
      "```"
     ]
    },
    {
     "cell_type": "markdown",
     "metadata": {
      "slideshow": {
       "slide_start": true,
       "slide_type": "slide"
      }
     },
     "source": [
      "## MPI Basic (Blocking) Recv\n",
      "\n",
      "#### C\n",
      "```\n",
      "   int MPI_Recv(void* buf, int count, MPI_Datatype type, \n",
      "   int source, int tag, MPI_Comm comm, MPI_Status status)\n",
      "```\n",
      "\n",
      "#### mpi4py\n",
      "```\n",
      "  comm.Recv(self, buf, source=0, tag=0, status=None)\n",
      "  comm.recv(self, obj=None, source=0, tag=0, status=None)\n",
      "```"
     ]
    },
    {
     "cell_type": "markdown",
     "metadata": {
      "slideshow": {
       "slide_start": true,
       "slide_type": "slide"
      }
     },
     "source": [
      "## Send/Receive Example "
     ]
    },
    {
     "cell_type": "markdown",
     "metadata": {
      "slideshow": {
       "slide_type": "slide"
      }
     },
     "source": [
      "### Generic"
     ]
    },
    {
     "cell_type": "code",
     "collapsed": false,
     "input": [
      "if rank == 0:\n",
      "   data = {'a': 7, 'b': 3.14}\n",
      "   comm.send(data, dest=1, tag=11)\n",
      "elif rank == 1:\n",
      "   data = comm.recv(source=0, tag=11)\n",
      "   print data"
     ],
     "language": "python",
     "metadata": {
      "slideshow": {
       "slide_start": false
      }
     },
     "outputs": [
      {
       "output_type": "stream",
       "stream": "stdout",
       "text": [
        "[stdout:0] {'a': 7, 'b': 3.14}\n"
       ]
      }
     ],
     "prompt_number": 23
    },
    {
     "cell_type": "markdown",
     "metadata": {
      "slideshow": {
       "slide_start": true,
       "slide_type": "slide"
      }
     },
     "source": [
      "### Efficient"
     ]
    },
    {
     "cell_type": "markdown",
     "metadata": {
      "slideshow": {
       "slide_type": "-"
      }
     },
     "source": [
      "#### Explicit MPI Datatypes"
     ]
    },
    {
     "cell_type": "code",
     "collapsed": false,
     "input": [
      "if rank == 0:\n",
      "    data = np.arange(10, dtype='i')\n",
      "    comm.Send([data, MPI.INT], dest=1, tag=77)\n",
      "elif rank == 1:\n",
      "    data = np.empty(10, dtype='i')\n",
      "    comm.Recv([data, MPI.INT], source=0, tag=77)\n",
      "    print data"
     ],
     "language": "python",
     "metadata": {
      "slideshow": {
       "slide_start": false,
       "slide_type": "-"
      }
     },
     "outputs": [
      {
       "output_type": "stream",
       "stream": "stdout",
       "text": [
        "[stdout:0] [0 1 2 3 4 5 6 7 8 9]\n"
       ]
      }
     ],
     "prompt_number": 27
    },
    {
     "cell_type": "markdown",
     "metadata": {
      "slideshow": {
       "slide_type": "-"
      }
     },
     "source": [
      "#### Automatic MPI Datatype Discovery (NumPy arrays)"
     ]
    },
    {
     "cell_type": "code",
     "collapsed": false,
     "input": [
      "if rank == 0:\n",
      "    data = np.arange(10, dtype=np.float64)\n",
      "    comm.Send(data, dest=1, tag=13)\n",
      "elif rank == 1:\n",
      "    data = np.empty(10, dtype=np.float64)\n",
      "    comm.Recv(data, source=0, tag=13)\n",
      "    print data"
     ],
     "language": "python",
     "metadata": {
      "slideshow": {
       "slide_type": "-"
      }
     },
     "outputs": [
      {
       "output_type": "stream",
       "stream": "stdout",
       "text": [
        "[stdout:0] [ 0.  1.  2.  3.  4.  5.  6.  7.  8.  9.]\n"
       ]
      }
     ],
     "prompt_number": 29
    },
    {
     "cell_type": "markdown",
     "metadata": {
      "slideshow": {
       "slide_start": true,
       "slide_type": "slide"
      }
     },
     "source": [
      "## Synchronization\n",
      "\n",
      "#### C\n",
      "```\n",
      "   int MPI_Barrier(MPI_Comm comm)\n",
      "```\n",
      "\n",
      "#### mpi4py\n",
      "\n",
      "```\n",
      "   comm.Barrier(self)\n",
      "   comm.barrier(self)\n",
      "```"
     ]
    },
    {
     "cell_type": "code",
     "collapsed": false,
     "input": [
      "for r_id in range(comm.Get_size()):\n",
      "    if rank == r_id:\n",
      "        print \"Hello from proc:\", rank\n",
      "    comm.Barrier()"
     ],
     "language": "python",
     "metadata": {
      "slideshow": {
       "slide_start": false
      }
     },
     "outputs": [
      {
       "output_type": "stream",
       "stream": "stdout",
       "text": [
        "[stdout:0] Hello from proc: 1\n",
        "[stdout:1] Hello from proc: 2\n",
        "[stdout:2] Hello from proc: 3\n",
        "[stdout:3] Hello from proc: 0\n"
       ]
      }
     ],
     "prompt_number": 30
    },
    {
     "cell_type": "markdown",
     "metadata": {
      "slideshow": {
       "slide_start": true,
       "slide_type": "slide"
      }
     },
     "source": [
      "## Timing and Profiling\n",
      "\n",
      "The elapsed (wall-clock) time between two points in an MPI program can be computed using MPI_Wtime:"
     ]
    },
    {
     "cell_type": "code",
     "collapsed": false,
     "input": [
      "t1 = MPI.Wtime()\n",
      "t2 = MPI.Wtime()\n",
      "print(\"time elapsed is: %e\\n\" % (t2-t1))"
     ],
     "language": "python",
     "metadata": {
      "slideshow": {
       "slide_start": false
      }
     },
     "outputs": [
      {
       "output_type": "stream",
       "stream": "stdout",
       "text": [
        "[stdout:0] \n",
        "time elapsed is: 9.230500e-05\n",
        "\n",
        "[stdout:1] \n",
        "time elapsed is: 9.876500e-05\n",
        "\n",
        "[stdout:2] \n",
        "time elapsed is: 9.861000e-05\n",
        "\n",
        "[stdout:3] \n",
        "time elapsed is: 4.349900e-05\n",
        "\n"
       ]
      }
     ],
     "prompt_number": 31
    },
    {
     "cell_type": "markdown",
     "metadata": {
      "slideshow": {
       "slide_start": true,
       "slide_type": "slide"
      }
     },
     "source": [
      "## Basic Collectives: Broadcast, Scatter, and Gather\n",
      "![](../figures/broadcast_scatter_gather.png)\n"
     ]
    },
    {
     "cell_type": "markdown",
     "metadata": {
      "slideshow": {
       "slide_start": true,
       "slide_type": "slide"
      }
     },
     "source": [
      "#### C\n",
      "\n",
      "```\n",
      "   int MPI_Bcast(void *buf, int count, MPI_Datatype type, \n",
      "   int root, MPI_Comm comm)\n",
      "```\n",
      "\n",
      "#### mpi4py\n",
      "\n",
      "``` \n",
      "  comm.Bcast(self, buf, root=0)\n",
      "  comm.bcast(self, obj=None, root=0)\n",
      "```"
     ]
    },
    {
     "cell_type": "markdown",
     "metadata": {
      "slideshow": {
       "slide_type": "slide"
      }
     },
     "source": [
      "## Broadcast Example"
     ]
    },
    {
     "cell_type": "code",
     "collapsed": false,
     "input": [
      "if rank == 0:\n",
      "   data = {'key1' : [7, 2.72, 2+3j],\n",
      "           'key2' : ( 'abc', 'xyz')}\n",
      "else:\n",
      "   data = None\n",
      "data = comm.bcast(data, root=0)\n",
      "print \"bcast finished and data \\\n",
      " on rank %d is: \"%comm.rank, data"
     ],
     "language": "python",
     "metadata": {
      "slideshow": {
       "slide_start": false,
       "slide_step": true
      }
     },
     "outputs": [
      {
       "output_type": "stream",
       "stream": "stdout",
       "text": [
        "[stdout:0] bcast finished and data  on rank 0 is:  {'key2': ('abc', 'xyz'), 'key1': [7, 2.72, (2+3j)]}\n",
        "[stdout:1] bcast finished and data  on rank 1 is:  {'key2': ('abc', 'xyz'), 'key1': [7, 2.72, (2+3j)]}\n",
        "[stdout:2] bcast finished and data  on rank 3 is:  {'key2': ('abc', 'xyz'), 'key1': [7, 2.72, (2+3j)]}\n",
        "[stdout:3] bcast finished and data  on rank 2 is:  {'key2': ('abc', 'xyz'), 'key1': [7, 2.72, (2+3j)]}\n"
       ]
      }
     ],
     "prompt_number": 54
    },
    {
     "cell_type": "markdown",
     "metadata": {
      "slideshow": {
       "slide_start": true,
       "slide_type": "slide"
      }
     },
     "source": [
      "## Scatter Example:"
     ]
    },
    {
     "cell_type": "code",
     "collapsed": false,
     "input": [
      "if rank == 0:\n",
      "   data = [(i+1)**2 for i in range(size)]\n",
      "else:\n",
      "   data = None\n",
      "data = comm.scatter(data, root=0)\n",
      "assert data == (rank+1)**2\n",
      "print \"data on rank %d is: \"%comm.rank, data"
     ],
     "language": "python",
     "metadata": {
      "slideshow": {
       "slide_start": false,
       "slide_step": true
      }
     },
     "outputs": [
      {
       "output_type": "stream",
       "stream": "stdout",
       "text": [
        "[stdout:0] data on rank 0 is:  1\n",
        "[stdout:1] data on rank 1 is:  4\n",
        "[stdout:2] data on rank 3 is:  16\n",
        "[stdout:3] data on rank 2 is:  9\n"
       ]
      }
     ],
     "prompt_number": 55
    },
    {
     "cell_type": "markdown",
     "metadata": {
      "slideshow": {
       "slide_start": true,
       "slide_type": "slide"
      }
     },
     "source": [
      "## Gather (and Barrier) Example:\n"
     ]
    },
    {
     "cell_type": "code",
     "collapsed": false,
     "input": [
      "data = (rank+1)**2\n",
      "print \"before gather, data on \\\n",
      "  rank %d is: \"%rank, data\n",
      "\n",
      "comm.Barrier()\n",
      "data = comm.gather(data, root=0)\n",
      "if rank == 0:\n",
      "   for i in range(size):\n",
      "       assert data[i] == (i+1)**2\n",
      "else:\n",
      "   assert data is None\n",
      "print \"data on rank: %d is: \"%rank, data"
     ],
     "language": "python",
     "metadata": {
      "slideshow": {
       "slide_start": false,
       "slide_step": true
      }
     },
     "outputs": [
      {
       "output_type": "stream",
       "stream": "stdout",
       "text": [
        "[stdout:0] \n",
        "before gather, data on   rank 0 is:  1\n",
        "data on rank: 0 is:  [1, 4, 9, 16]\n",
        "[stdout:1] \n",
        "before gather, data on   rank 1 is:  4\n",
        "data on rank: 1 is:  None\n",
        "[stdout:2] \n",
        "before gather, data on   rank 3 is:  16\n",
        "data on rank: 3 is:  None\n",
        "[stdout:3] \n",
        "before gather, data on   rank 2 is:  9\n",
        "data on rank: 2 is:  None\n"
       ]
      }
     ],
     "prompt_number": 56
    },
    {
     "cell_type": "markdown",
     "metadata": {
      "slideshow": {
       "slide_start": true,
       "slide_type": "slide"
      }
     },
     "source": [
      "## Reduce and Scan\n",
      "\n",
      "![](../figures/reduce_scan.png)\n"
     ]
    },
    {
     "cell_type": "markdown",
     "metadata": {
      "slideshow": {
       "slide_start": true,
       "slide_type": "slide"
      }
     },
     "source": [
      "## Reduce Example\n",
      "\n",
      "The lower-case `reduce` implemented in `mpi4py` is not designed to be particularly scalable.  If you need to perform a reduce on thousands of processes or more, it is recommended that you either switch to the non-generic Reduce, or utilize the scalable reduce provided in `mpi4py/demo/reductions/reductions.py`"
     ]
    },
    {
     "cell_type": "code",
     "collapsed": false,
     "input": [
      "sendmsg = comm.rank\n",
      "recvmsg1 = comm.reduce(sendmsg, op=MPI.SUM, root=0)\n",
      "recvmsg2 = comm.allreduce(sendmsg)\n",
      "print recvmsg2"
     ],
     "language": "python",
     "metadata": {
      "slideshow": {
       "slide_start": false,
       "slide_step": true
      }
     },
     "outputs": [
      {
       "output_type": "stream",
       "stream": "stdout",
       "text": [
        "[stdout:0] 6\n",
        "[stdout:1] 6\n",
        "[stdout:2] 6\n",
        "[stdout:3] 6\n"
       ]
      }
     ],
     "prompt_number": 57
    },
    {
     "cell_type": "markdown",
     "metadata": {
      "slideshow": {
       "slide_start": true,
       "slide_type": "slide"
      }
     },
     "source": [
      "## Compute Pi Example\n",
      "\n",
      "The following example is completely self-contained to simplify reuse in another script.  You can switch between running the code in parallel and serial by executing an %autopx cell."
     ]
    },
    {
     "cell_type": "code",
     "collapsed": false,
     "input": [
      "from mpi4py import MPI\n",
      "import math\n",
      "\n",
      "def compute_pi(n, start=0, step=1):\n",
      "    h = 1.0 / n\n",
      "    s = 0.0\n",
      "    for i in range(start, n, step):\n",
      "        x = h * (i + 0.5)\n",
      "        s += 4.0 / (1.0 + x**2)\n",
      "    return s * h\n",
      "\n",
      "comm = MPI.COMM_WORLD\n",
      "nprocs = comm.Get_size()\n",
      "myrank = comm.Get_rank()\n",
      "if myrank == 0:\n",
      "    n = 10\n",
      "else:\n",
      "    n = None\n",
      "\n",
      "n = comm.bcast(n, root=0)\n",
      "\n",
      "mypi = compute_pi(n, myrank, nprocs)\n",
      "\n",
      "pi = comm.reduce(mypi, op=MPI.SUM, root=0)\n",
      "\n",
      "if myrank == 0:\n",
      "    error = abs(pi - math.pi)\n",
      "    print (\"pi is approximately %.16f\\nerror is %.16f\" % (pi, error))"
     ],
     "language": "python",
     "metadata": {
      "slideshow": {
       "slide_start": false,
       "slide_step": true,
       "slide_type": "slide"
      }
     },
     "outputs": [
      {
       "output_type": "stream",
       "stream": "stdout",
       "text": [
        "[stdout:3] \n",
        "pi is approximately 3.1424259850010983\n",
        "error is 0.0008333314113051\n"
       ]
      }
     ],
     "prompt_number": 33
    },
    {
     "cell_type": "markdown",
     "metadata": {
      "slideshow": {
       "slide_start": true,
       "slide_type": "slide"
      }
     },
     "source": [
      "## Mandelbrot Set Example\n",
      "\n",
      "The following example is completely self-contained to simplify reuse in another script."
     ]
    },
    {
     "cell_type": "code",
     "collapsed": false,
     "input": [
      "from mpi4py import MPI\n",
      "import numpy as np\n",
      "\n",
      "def mandelbrot (x, y, maxit):\n",
      "    c = x + y*1j\n",
      "    z = 0 + 0j\n",
      "    it = 0\n",
      "    while abs(z) < 2 and it < maxit:\n",
      "        z = z**2 + c\n",
      "        it += 1\n",
      "    return it\n",
      "\n",
      "x1, x2 = -2.0, 1.0\n",
      "y1, y2 = -1.0, 1.0\n",
      "w, h = 250, 200\n",
      "maxit = 127\n",
      "  \n",
      "comm = MPI.COMM_WORLD\n",
      "size = comm.Get_size()\n",
      "rank = comm.Get_rank()\n",
      "\n",
      "# number of rows to compute here\n",
      "N = h // size + (h % size > rank)\n",
      "\n",
      "# first row to compute here\n",
      "start = comm.scan(N)-N\n",
      "\n",
      "# array to store local result\n",
      "Cl = np.zeros([N, w], dtype='i')\n",
      "\n",
      "# compute owned rows\n",
      "\n",
      "dx = (x2 - x1) / w\n",
      "dy = (y2 - y1) / h\n",
      "\n",
      "for i in range(N):\n",
      "    y = y1 + (i + start) * dy\n",
      "    for j in range(w):\n",
      "        x = x1 + j * dx\n",
      "        Cl[i, j] = mandelbrot(x, y, maxit)\n",
      "\n",
      "# gather results at root (process 0)\n",
      "counts = comm.gather(N, root=0)\n",
      "C = None\n",
      "if rank == 0:\n",
      "    C = np.zeros([h, w], dtype='i')\n",
      "\n",
      "# here we create a custom datatype for sending/receiving rows of data.\n",
      "rowtype = MPI.INT.Create_contiguous(w)\n",
      "rowtype.Commit()\n",
      "\n",
      "comm.Gatherv(sendbuf=[Cl, MPI.INT], recvbuf=[C, (counts, None), rowtype],root=0)\n",
      "\n",
      "rowtype.Free()"
     ],
     "language": "python",
     "metadata": {
      "slideshow": {
       "slide_start": false,
       "slide_step": true,
       "slide_type": "slide"
      }
     },
     "outputs": [],
     "prompt_number": 41
    },
    {
     "cell_type": "markdown",
     "metadata": {
      "slideshow": {
       "slide_start": false,
       "slide_type": "slide"
      }
     },
     "source": [
      "We can't inline plots from the `ipcluster` Engines where we just performed the computations.  Instead, we use the Notebook Engine to get a copy of the data on MPI rank 0, then plot as before.\n",
      "\n",
      "First, we switch off `%autopx` to enable computing on the Notebook Engine. "
     ]
    },
    {
     "cell_type": "code",
     "collapsed": false,
     "input": [
      "%autopx"
     ],
     "language": "python",
     "metadata": {
      "slideshow": {
       "slide_start": false
      }
     },
     "outputs": [
      {
       "output_type": "stream",
       "stream": "stdout",
       "text": [
        "%autopx disabled\n"
       ]
      }
     ],
     "prompt_number": 42
    },
    {
     "cell_type": "markdown",
     "metadata": {
      "slideshow": {
       "slide_type": "slide"
      }
     },
     "source": [
      "Then we collect the array and rank data from the `ipcluster` Engines using the `view` object."
     ]
    },
    {
     "cell_type": "code",
     "collapsed": false,
     "input": [
      "# CC is a list of C from all ranks\n",
      "CC = view['C']\n",
      "# Similarly, ranks is a list of MPI ranks from all ipcluster processes\n",
      "ranks = view['rank']\n",
      "\n",
      "# Do the plotting\n",
      "# We use the IPython index of the ipcluster process with rank 0 as\n",
      "# the index into CC\n",
      "pyplot.imshow(CC[ranks.index(0)])\n",
      "pyplot.spectral()\n",
      "pyplot.show()"
     ],
     "language": "python",
     "metadata": {
      "slideshow": {
       "slide_start": false
      }
     },
     "outputs": [
      {
       "metadata": {},
       "output_type": "display_data",
       "png": "[encoded data removed]",
       "text": [
        "<matplotlib.figure.Figure at 0x111773c10>"
       ]
      }
     ],
     "prompt_number": 43
    }
   ],
   "metadata": {}
  }
 ]
}