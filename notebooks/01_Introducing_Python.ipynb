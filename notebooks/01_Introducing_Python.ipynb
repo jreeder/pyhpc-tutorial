{
 "metadata": {
  "name": "",
  "signature": "sha256:87f47171ee47bc04ff1709f7079fe968b4dc2327900359dec45d000c952e9ff4"
 },
 "nbformat": 3,
 "nbformat_minor": 0,
 "worksheets": [
  {
   "cells": [
    {
     "cell_type": "markdown",
     "metadata": {
      "slideshow": {
       "slide_start": true
      }
     },
     "source": [
      "<style>\n",
      "    h1{\n",
      "        text-align:center;\n",
      "    }\n",
      "    h2{\n",
      "        text-align:center;\n",
      "        font-variant:small-caps;\n",
      "    }\n",
      "</style>\n",
      "# Introducing Python\n",
      "# Python in HPC Tutorial\n",
      "\n",
      "## Supercomputing 2014\n",
      "\n",
      "Matt Knepley and Aron Ahmadia\n",
      "\n",
      "[![Creative Commons License](../figures/creative_commons_logo.png)](http://creativecommons.org/licenses/by/3.0/deed.en_US)  "
     ]
    },
    {
     "cell_type": "markdown",
     "metadata": {
      "slideshow": {
       "slide_start": true,
       "slide_step": false
      }
     },
     "source": [
      "---\n",
      "\n",
      "## About This Tutorial\n",
      "\n",
      "### PyHPC Tutorial on GitHub\n",
      "\n",
      "These presentation materials are part of a continuously updated tutorial on Python for High Performance Computing.  Future versions of this presentation will be found at:\n",
      "\n",
      "https://github.com/pyhpc/pyhpc-tutorial\n",
      "\n",
      "Please set all permanent bookmarks to this URL.\n",
      "\n",
      "### \n",
      "Checkout from git\n",
      "\n",
      "```\n",
      "git clone https://github.com/pyhpc/pyhpc-tutorial.git\n",
      "git checkout sc2014\n",
      "```\n",
      "\n",
      "### Viewing the read-only version of this presentation on nbviewer: \n",
      "\n",
      "* http://nbviewer.ipython.org/urls/raw.github.com/pyhpc/pyhpc-tutorial/master/notebooks/01_Introducing_Python.ipynb"
     ]
    },
    {
     "cell_type": "markdown",
     "metadata": {
      "slideshow": {
       "slide_start": true
      }
     },
     "source": [
      "---\n",
      "\n",
      "## Interacting with the Tutorial Slides\n",
      "\n",
      "This tutorial is an interactive worksheet designed to encourage you to try out the lessons during the demonstration.  If you are looking at the PDF version of these slides, we encourage you to download the updated version (see previous slide) and try the interactive version.\n",
      "\n",
      "To run the interactive version of this notebook, you will need a Python 2.7 environment including: \n",
      "\n",
      "* IPython version >= 13.0\n",
      "* numpy version >= 1.6\n",
      "* scipy >= 0.10\n",
      "* matplotlib >= 1.0.0\n",
      "\n",
      "Move to the directory containing the tarball and execute:\n",
      "\n",
      "    $ ipython notebook --pylab=inline\n",
      "\n",
      "If you are installing the packages yourself, Continuum Analytics provides both free community as well as professional versions of the Anaconda installer, which provides all the packages you will need for this portion of the tutorial. The installer is available from the [Anaconda download page at Continuum Analytics](https://store.continuum.io/cshop/anaconda).\n",
      "\n",
      "You are also welcome to use Enthought's Python Distribution (free for Academic users), available from the [EPD download page at Enthought](http://www.enthought.com/products/epd.php).\n",
      "\n",
      "Unfortunately, you will need to upgrade your EPD's IPython to 0.13 if you go this route, and this may be non-trivial, please see the [Enthought discussion thread here](https://mail.enthought.com/pipermail/epd-users/2012-August/000800.html)."
     ]
    },
    {
     "cell_type": "markdown",
     "metadata": {
      "slideshow": {
       "slide_start": true
      }
     },
     "source": [
      "---\n",
      "## Presentation mode\n",
      "The slideshow mode is only supported by an IPython development branch version. If you would like to write your own slideshows (the notebooks will work regardless of slideshow capabilities), you will need to install Matthias Bussonnier's slideshow_metadata branch.  Here are some sample command-line instructions.\n",
      "\n",
      "    #!/bin/bash\n",
      "    git clone carreau git://github.com/Carreau/ipython.git # Matthias' IPython fork\n",
      "    git checkout origin/slideshow_metadata                 # Select the right branch\n",
      "    python setup.py develop                                # Install the development version\n",
      "    ipython notebook                                       # Check out the slideshows!"
     ]
    },
    {
     "cell_type": "markdown",
     "metadata": {
      "slideshow": {
       "slide_start": true,
       "slide_step": false
      }
     },
     "source": [
      "---\n",
      "## Slideshow Setup Code"
     ]
    },
    {
     "cell_type": "code",
     "collapsed": false,
     "input": [
      "# The below command starts pylab inline mode, which simplifies syntax for many common \n",
      "# scientific computing commands.  All commands starting with % are IPython extensions.\n",
      "%pylab inline\n",
      "\n",
      "import numpy as np\n",
      "import scipy as sp\n",
      "\n",
      "# The following two lines of code load the slideshow extension and start it,\n",
      "# you only need to run these if you are writing or running your own slideshow\n",
      "\n",
      "#%load_ext slidemode\n",
      "#%slideshow_mode"
     ],
     "language": "python",
     "metadata": {
      "slideshow": {
       "slide_start": false,
       "slide_step": false
      }
     },
     "outputs": [
      {
       "output_type": "stream",
       "stream": "stdout",
       "text": [
        "Populating the interactive namespace from numpy and matplotlib\n"
       ]
      },
      {
       "output_type": "stream",
       "stream": "stderr",
       "text": [
        "WARNING: pylab import has clobbered these variables: ['f']\n",
        "`%matplotlib` prevents importing * from pylab and numpy\n"
       ]
      }
     ],
     "prompt_number": 20
    },
    {
     "cell_type": "code",
     "collapsed": false,
     "input": [
      "profile_dir = get_ipython().profile_dir.location\n",
      "profile_dir"
     ],
     "language": "python",
     "metadata": {},
     "outputs": []
    },
    {
     "cell_type": "code",
     "collapsed": false,
     "input": [
      "import os\n",
      "tgt = os.path.join( profile_dir, 'static', 'custom')\n",
      "!git clone https://github.com/ipython-contrib/IPython-notebook-extensions.git $tgt/IPython-notebook-extensions"
     ],
     "language": "python",
     "metadata": {},
     "outputs": [
      {
       "output_type": "stream",
       "stream": "stdout",
       "text": [
        "Cloning into '/Users/knepley/.ipython/profile_default/static/custom/IPython-notebook-extensions'...\r\n"
       ]
      },
      {
       "output_type": "stream",
       "stream": "stdout",
       "text": [
        "remote: Counting objects: 1144, done.\u001b[K\r\n",
        "remote: Compressing objects:  16% (1/6)   \u001b[K\r",
        "remote: Compressing objects:  33% (2/6)   \u001b[K\r",
        "remote: Compressing objects:  50% (3/6)   \u001b[K\r",
        "remote: Compressing objects:  66% (4/6)   \u001b[K\r",
        "remote: Compressing objects:  83% (5/6)   \u001b[K\r",
        "remote: Compressing objects: 100% (6/6)   \u001b[K\r",
        "remote: Compressing objects: 100% (6/6), done.\u001b[K\r\n"
       ]
      },
      {
       "output_type": "stream",
       "stream": "stdout",
       "text": [
        "Receiving objects:   0% (1/1144)   \r",
        "Receiving objects:   1% (12/1144)   \r",
        "Receiving objects:   2% (23/1144)   \r",
        "Receiving objects:   3% (35/1144)   \r",
        "Receiving objects:   4% (46/1144)   \r",
        "Receiving objects:   5% (58/1144)   \r",
        "Receiving objects:   6% (69/1144)   \r"
       ]
      },
      {
       "output_type": "stream",
       "stream": "stdout",
       "text": [
        "Receiving objects:   7% (81/1144)   \r",
        "Receiving objects:   8% (92/1144)   \r",
        "Receiving objects:   9% (103/1144)   \r",
        "Receiving objects:  10% (115/1144)   \r",
        "Receiving objects:  11% (126/1144)   \r",
        "Receiving objects:  12% (138/1144)   \r",
        "Receiving objects:  13% (149/1144)   \r",
        "Receiving objects:  14% (161/1144)   \r",
        "Receiving objects:  15% (172/1144)   \r",
        "Receiving objects:  16% (184/1144)   \r",
        "Receiving objects:  17% (195/1144)   \r",
        "Receiving objects:  18% (206/1144)   \r"
       ]
      },
      {
       "output_type": "stream",
       "stream": "stdout",
       "text": [
        "Receiving objects:  19% (218/1144)   \r",
        "Receiving objects:  20% (229/1144)   \r",
        "Receiving objects:  21% (241/1144)   \r",
        "Receiving objects:  22% (252/1144)   \r",
        "Receiving objects:  23% (264/1144)   \r",
        "Receiving objects:  24% (275/1144)   \r",
        "Receiving objects:  25% (286/1144)   \r",
        "Receiving objects:  26% (298/1144)   \r",
        "Receiving objects:  27% (309/1144)   \r"
       ]
      },
      {
       "output_type": "stream",
       "stream": "stdout",
       "text": [
        "Receiving objects:  28% (321/1144)   \r",
        "Receiving objects:  29% (332/1144)   \r"
       ]
      },
      {
       "output_type": "stream",
       "stream": "stdout",
       "text": [
        "Receiving objects:  29% (343/1144), 980.00 KiB | 946 KiB/s   \r"
       ]
      },
      {
       "output_type": "stream",
       "stream": "stdout",
       "text": [
        "Receiving objects:  30% (344/1144), 980.00 KiB | 946 KiB/s   \r"
       ]
      },
      {
       "output_type": "stream",
       "stream": "stdout",
       "text": [
        "Receiving objects:  30% (349/1144), 2.09 MiB | 1.03 MiB/s   \r",
        "Receiving objects:  31% (355/1144), 2.09 MiB | 1.03 MiB/s   \r",
        "Receiving objects:  32% (367/1144), 2.09 MiB | 1.03 MiB/s   \r",
        "Receiving objects:  33% (378/1144), 2.09 MiB | 1.03 MiB/s   \r",
        "Receiving objects:  34% (389/1144), 2.09 MiB | 1.03 MiB/s   \r",
        "Receiving objects:  35% (401/1144), 2.09 MiB | 1.03 MiB/s   \r",
        "Receiving objects:  36% (412/1144), 2.09 MiB | 1.03 MiB/s   \r"
       ]
      },
      {
       "output_type": "stream",
       "stream": "stdout",
       "text": [
        "Receiving objects:  37% (424/1144), 2.09 MiB | 1.03 MiB/s   \r",
        "Receiving objects:  38% (435/1144), 2.09 MiB | 1.03 MiB/s   \r"
       ]
      },
      {
       "output_type": "stream",
       "stream": "stdout",
       "text": [
        "Receiving objects:  39% (447/1144), 2.09 MiB | 1.03 MiB/s   \r"
       ]
      },
      {
       "output_type": "stream",
       "stream": "stdout",
       "text": [
        "Receiving objects:  40% (458/1144), 2.69 MiB | 1.05 MiB/s   \r"
       ]
      },
      {
       "output_type": "stream",
       "stream": "stdout",
       "text": [
        "Receiving objects:  41% (470/1144), 2.69 MiB | 1.05 MiB/s   \r",
        "Receiving objects:  42% (481/1144), 2.69 MiB | 1.05 MiB/s   \r",
        "Receiving objects:  43% (492/1144), 2.69 MiB | 1.05 MiB/s   \r"
       ]
      },
      {
       "output_type": "stream",
       "stream": "stdout",
       "text": [
        "Receiving objects:  44% (504/1144), 2.69 MiB | 1.05 MiB/s   \r",
        "Receiving objects:  45% (515/1144), 2.69 MiB | 1.05 MiB/s   \r",
        "Receiving objects:  46% (527/1144), 2.69 MiB | 1.05 MiB/s   \r",
        "Receiving objects:  47% (538/1144), 2.69 MiB | 1.05 MiB/s   \r",
        "Receiving objects:  48% (550/1144), 2.69 MiB | 1.05 MiB/s   \r",
        "Receiving objects:  49% (561/1144), 2.69 MiB | 1.05 MiB/s   \r",
        "Receiving objects:  50% (572/1144), 2.69 MiB | 1.05 MiB/s   \r",
        "Receiving objects:  51% (584/1144), 2.69 MiB | 1.05 MiB/s   \r",
        "Receiving objects:  52% (595/1144), 2.69 MiB | 1.05 MiB/s   \r",
        "Receiving objects:  53% (607/1144), 2.69 MiB | 1.05 MiB/s   \r",
        "Receiving objects:  54% (618/1144), 2.69 MiB | 1.05 MiB/s   \r",
        "Receiving objects:  55% (630/1144), 2.69 MiB | 1.05 MiB/s   \r",
        "Receiving objects:  56% (641/1144), 2.69 MiB | 1.05 MiB/s   \r",
        "Receiving objects:  57% (653/1144), 2.69 MiB | 1.05 MiB/s   \r",
        "Receiving objects:  58% (664/1144), 2.69 MiB | 1.05 MiB/s   \r",
        "Receiving objects:  59% (675/1144), 2.69 MiB | 1.05 MiB/s   \r",
        "Receiving objects:  60% (687/1144), 2.69 MiB | 1.05 MiB/s   \r",
        "Receiving objects:  61% (698/1144), 2.69 MiB | 1.05 MiB/s   \r",
        "Receiving objects:  62% (710/1144), 2.69 MiB | 1.05 MiB/s   \r",
        "Receiving objects:  63% (721/1144), 2.69 MiB | 1.05 MiB/s   \r",
        "Receiving objects:  64% (733/1144), 2.69 MiB | 1.05 MiB/s   \r",
        "Receiving objects:  65% (744/1144), 2.69 MiB | 1.05 MiB/s   \r",
        "Receiving objects:  66% (756/1144), 2.69 MiB | 1.05 MiB/s   \r",
        "Receiving objects:  67% (767/1144), 2.69 MiB | 1.05 MiB/s   \r"
       ]
      },
      {
       "output_type": "stream",
       "stream": "stdout",
       "text": [
        "Receiving objects:  68% (778/1144), 2.69 MiB | 1.05 MiB/s   \r",
        "Receiving objects:  69% (790/1144), 2.69 MiB | 1.05 MiB/s   \r",
        "Receiving objects:  70% (801/1144), 2.69 MiB | 1.05 MiB/s   \r",
        "Receiving objects:  71% (813/1144), 2.69 MiB | 1.05 MiB/s   \r",
        "Receiving objects:  72% (824/1144), 2.69 MiB | 1.05 MiB/s   \r",
        "Receiving objects:  73% (836/1144), 2.69 MiB | 1.05 MiB/s   \r",
        "Receiving objects:  74% (847/1144), 2.69 MiB | 1.05 MiB/s   \r",
        "Receiving objects:  75% (858/1144), 2.69 MiB | 1.05 MiB/s   \r",
        "Receiving objects:  76% (870/1144), 2.69 MiB | 1.05 MiB/s   \r",
        "Receiving objects:  77% (881/1144), 2.69 MiB | 1.05 MiB/s   \r",
        "Receiving objects:  78% (893/1144), 2.69 MiB | 1.05 MiB/s   \r",
        "Receiving objects:  79% (904/1144), 2.69 MiB | 1.05 MiB/s   \r",
        "Receiving objects:  80% (916/1144), 2.69 MiB | 1.05 MiB/s   \r",
        "Receiving objects:  81% (927/1144), 2.69 MiB | 1.05 MiB/s   \r",
        "Receiving objects:  82% (939/1144), 2.69 MiB | 1.05 MiB/s   \r",
        "Receiving objects:  83% (950/1144), 2.69 MiB | 1.05 MiB/s   \r",
        "Receiving objects:  84% (961/1144), 2.69 MiB | 1.05 MiB/s   \r",
        "Receiving objects:  85% (973/1144), 2.69 MiB | 1.05 MiB/s   \r",
        "Receiving objects:  86% (984/1144), 2.69 MiB | 1.05 MiB/s   \r",
        "Receiving objects:  87% (996/1144), 2.69 MiB | 1.05 MiB/s   \r",
        "Receiving objects:  88% (1007/1144), 2.69 MiB | 1.05 MiB/s   \r",
        "Receiving objects:  89% (1019/1144), 2.69 MiB | 1.05 MiB/s   \r"
       ]
      },
      {
       "output_type": "stream",
       "stream": "stdout",
       "text": [
        "Receiving objects:  90% (1030/1144), 2.69 MiB | 1.05 MiB/s   \r",
        "Receiving objects:  91% (1042/1144), 2.69 MiB | 1.05 MiB/s   \r",
        "Receiving objects:  92% (1053/1144), 2.69 MiB | 1.05 MiB/s   \r",
        "Receiving objects:  93% (1064/1144), 2.69 MiB | 1.05 MiB/s   \r",
        "Receiving objects:  94% (1076/1144), 2.69 MiB | 1.05 MiB/s   \r",
        "Receiving objects:  95% (1087/1144), 2.69 MiB | 1.05 MiB/s   \r",
        "Receiving objects:  96% (1099/1144), 2.69 MiB | 1.05 MiB/s   \r",
        "Receiving objects:  97% (1110/1144), 2.69 MiB | 1.05 MiB/s   \r",
        "remote: Total 1144 (delta 0), reused 1 (delta 0)\u001b[K\r\n",
        "Receiving objects:  98% (1122/1144), 2.69 MiB | 1.05 MiB/s   \r",
        "Receiving objects:  99% (1133/1144), 2.69 MiB | 1.05 MiB/s   \r",
        "Receiving objects: 100% (1144/1144), 2.69 MiB | 1.05 MiB/s   \r",
        "Receiving objects: 100% (1144/1144), 3.07 MiB | 1.05 MiB/s, done.\r\n",
        "Resolving deltas:   0% (0/549)   \r",
        "Resolving deltas:   1% (6/549)   \r",
        "Resolving deltas:   2% (11/549)   \r",
        "Resolving deltas:   3% (20/549)   \r",
        "Resolving deltas:   4% (24/549)   \r",
        "Resolving deltas:   5% (29/549)   \r",
        "Resolving deltas:   6% (33/549)   \r",
        "Resolving deltas:   7% (39/549)   \r",
        "Resolving deltas:   8% (44/549)   \r",
        "Resolving deltas:  12% (71/549)   \r",
        "Resolving deltas:  13% (73/549)   \r",
        "Resolving deltas:  14% (78/549)   \r",
        "Resolving deltas:  16% (89/549)   \r",
        "Resolving deltas:  17% (94/549)   \r",
        "Resolving deltas:  18% (99/549)   \r",
        "Resolving deltas:  19% (108/549)   \r",
        "Resolving deltas:  20% (110/549)   \r",
        "Resolving deltas:  22% (122/549)   \r",
        "Resolving deltas:  23% (128/549)   \r",
        "Resolving deltas:  24% (135/549)   \r",
        "Resolving deltas:  25% (142/549)   \r",
        "Resolving deltas:  26% (144/549)   \r",
        "Resolving deltas:  27% (153/549)   \r",
        "Resolving deltas:  36% (199/549)   \r",
        "Resolving deltas:  37% (205/549)   \r",
        "Resolving deltas:  38% (213/549)   \r",
        "Resolving deltas:  39% (215/549)   \r",
        "Resolving deltas:  40% (223/549)   \r",
        "Resolving deltas:  41% (228/549)   \r",
        "Resolving deltas:  42% (233/549)   \r",
        "Resolving deltas:  43% (238/549)   \r",
        "Resolving deltas:  45% (248/549)   \r",
        "Resolving deltas:  50% (277/549)   \r",
        "Resolving deltas:  59% (324/549)   \r",
        "Resolving deltas:  60% (334/549)   \r",
        "Resolving deltas:  61% (335/549)   \r",
        "Resolving deltas:  63% (346/549)   \r",
        "Resolving deltas:  64% (353/549)   \r",
        "Resolving deltas:  65% (357/549)   \r",
        "Resolving deltas:  66% (367/549)   \r",
        "Resolving deltas:  69% (382/549)   \r",
        "Resolving deltas:  70% (385/549)   \r",
        "Resolving deltas:  72% (396/549)   \r",
        "Resolving deltas:  77% (426/549)   \r",
        "Resolving deltas:  83% (459/549)   \r",
        "Resolving deltas:  85% (471/549)   \r",
        "Resolving deltas:  88% (484/549)   \r",
        "Resolving deltas:  91% (505/549)   \r",
        "Resolving deltas:  92% (510/549)   \r",
        "Resolving deltas:  93% (514/549)   \r",
        "Resolving deltas:  94% (518/549)   \r",
        "Resolving deltas:  95% (525/549)   \r",
        "Resolving deltas:  96% (528/549)   \r",
        "Resolving deltas:  97% (533/549)   \r",
        "Resolving deltas:  98% (539/549)   \r",
        "Resolving deltas: 100% (549/549)   \r",
        "Resolving deltas: 100% (549/549), done.\r\n"
       ]
      }
     ],
     "prompt_number": 8
    },
    {
     "cell_type": "code",
     "collapsed": false,
     "input": [
      "%cd $tgt\n",
      "!ls"
     ],
     "language": "python",
     "metadata": {},
     "outputs": [
      {
       "output_type": "stream",
       "stream": "stdout",
       "text": [
        "/Users/knepley/.ipython/profile_default/static/custom\n",
        "\u001b[34mIPython-notebook-extensions\u001b[m\u001b[m custom.css                  custom.js\r\n"
       ]
      }
     ],
     "prompt_number": 9
    },
    {
     "cell_type": "markdown",
     "metadata": {
      "slideshow": {
       "slide_start": true
      }
     },
     "source": [
      "---\n",
      "\n",
      "Introduction to Python (This Notebook)\n",
      "------------\n",
      "\n",
      "### Objectives\n",
      "\n",
      "1. You will understand how scripting languages fit into the toolbox of\n",
      "a computational scientist.\n",
      "2. You will see why Python is a powerful choice\n",
      "3. You will get a taste of Python for actual scientific computing\n",
      "\n",
      "The first part of this introduction is adapted from *Python\n",
      "Scripting for Computational Science* by \n",
      "[Hans Petter Langtangen](http://folk.uio.no/hpl/), Simula \n",
      "and also includes motivating material from \n",
      "[Nathan Collier](http://www.mendeley.com/profiles/nathan-collier/), KAUST.\n",
      "\n",
      "<a href=\"http://www.amazon.com/Hans-Petter-Langtangen/e/B001K6A0IA\"><img src=\"../figures/books.png\"/> </a>\n"
     ]
    },
    {
     "cell_type": "markdown",
     "metadata": {
      "slideshow": {
       "slide_start": true
      }
     },
     "source": [
      "Scripting vs Traditional programming\n",
      "------------------------------------\n",
      "\n",
      "In traditional programming, large applications were typically\n",
      "written at a low level. Scripting, by contrast, is programming at a\n",
      "very high level with expressive, dynamic languages.\n",
      "\n",
      "> Traditional programming: Fortran, C, C++, C#, Java\n",
      ">\n",
      "> Scripting: Python, Perl, Ruby, MATLAB\n",
      "\n",
      "In the past, a major gain for scripting languages was that they could automate many \n",
      "tasks that otherwise would be performed by hand.\n",
      "\n",
      "As domain-specific scripting languages such as MATLAB and Python evolved, scientists realized\n",
      "that there were also great benefits in programming at a high level, allowing them to naturally\n",
      "express their computations in fewer lines of code, resulting in greater productivity and less \n",
      "defects.\n",
      "\n",
      "Computational scientists are now demonstrating that high level languages can also be more performant than their low-level\n",
      "counterparts, and Python is at the forefront of this.\n"
     ]
    },
    {
     "cell_type": "markdown",
     "metadata": {
      "slideshow": {
       "slide_start": true
      }
     },
     "source": [
      "---\n",
      "\n",
      "Python Scripting - Has this ever happened to you?\n",
      "------------------------------\n",
      "\n",
      "### Scenario 1\n",
      "You are working on data for a presentation your advisor is giving\n",
      "at a conference. At the last minute, you realize that there is a\n",
      "major bug in your code and you need to regenerate all the images\n",
      "and graphs that you have given him. You spend 30 minutes\n",
      "regenerating the data and 6 hours regenerating the graphs because\n",
      "you had them in Excel and had done them by hand.\n",
      "\n",
      "### Scenario 2\n",
      "You are working on your thesis and as you near the finish you\n",
      "review some graphs you generated months earlier and you aren't\n",
      "sure if they are now completely up to date. You spend half a day\n",
      "locating the old code that you wrote on your second laptop and\n",
      "hours more again creating and polishing the charts.\n"
     ]
    },
    {
     "cell_type": "markdown",
     "metadata": {
      "slideshow": {
       "slide_start": true,
       "slide_step": false
      }
     },
     "source": [
      "---\n",
      "\n",
      "Buyer Beware\n",
      "------------\n",
      "<!--====-->\n",
      "\n",
      "Learning to automate many of these common tasks can greatly\n",
      "increase your productivity (and make your research\n",
      "reproducible). However, beware that there is no end to the number\n",
      "of different ways to do essentially the same thing. \n",
      "\n",
      "![Recall we want to script to SAVE time](../figures/careful.png)\n",
      "\n",
      "> Image credit [Bruno Oliveira](https://plus.google.com/102451193315916178828/posts/MGxauXypb1Y)"
     ]
    },
    {
     "cell_type": "markdown",
     "metadata": {
      "slideshow": {
       "slide_start": true
      }
     },
     "source": [
      "---\n",
      "\n",
      "Why Python is useful\n",
      "-----------------------\n",
      "<!--====-->\n",
      "\n",
      "There are perhaps many reasons, here we list a few:\n",
      "\n",
      "* like other scripting languages, has an easier interface to learn\n",
      "* allow you to build your own work environment\n",
      "* scientific computing is more than crunching numbers\n",
      "* easier creation of GUIs, demos, and fancy HTML notebooks\n",
      "* create modern interfaces to old codes\n",
      "* allow you to explore, develop and test interactively\n",
      "* cleaner, shorter, easy to read, write, and maintain code"
     ]
    },
    {
     "cell_type": "markdown",
     "metadata": {
      "slideshow": {
       "slide_start": true
      }
     },
     "source": [
      "---\n",
      "\n",
      "Is Python > MATLAB?\n",
      "-------------------\n",
      "\n",
      "### Python == MATLAB\n",
      "\n",
      "* Simple and easy to use syntax (dynamic typing, array and linear algebra language)\n",
      "* Easy creation of interactive interfaces and GUIs\n",
      "* Merge simulation and visualization\n",
      "* Commercially supported (Continuum Analytics, Enthought)\n",
      "* Vibrant, enthusiastic academic communities for getting support and learning more\n",
      "* JIT support\n",
      "* Amazon EC2 support\n",
      "\n",
      "### MATLAB > Python\n",
      "\n",
      "* Several MATLAB toolboxes offer capabilities unavailable to the Python community\n",
      "* Superior documentation\n",
      "* Commercially robust and reliable scientific computing tools\n",
      "\n",
      "### Python > MATLAB\n",
      "\n",
      "* Python is free \n",
      "* Object-oriented programming is more convenient in Python\n",
      "* Extensive tools within and beyond scientific computing\n",
      "    + IPython notebook relies on a Python webserver as well as\n",
      "extensive asynchronous messaging support through PyZMQ\n",
      "* Python runs on all modern Cray and IBM supercomputers (and anywhere C does)\n"
     ]
    },
    {
     "cell_type": "markdown",
     "metadata": {
      "slideshow": {
       "slide_start": true
      }
     },
     "source": [
      "---\n",
      "\n",
      "Some Sample Applications\n",
      "========================"
     ]
    },
    {
     "cell_type": "markdown",
     "metadata": {
      "slideshow": {
       "slide_start": true
      }
     },
     "source": [
      "---\n",
      "\n",
      "Teaching the finite element method\n",
      "----------------------------------\n",
      "\n",
      "### Stiffness matrix computation\n",
      "\n",
      "![Stiffness matrix](../figures/fem.png)\n"
     ]
    },
    {
     "cell_type": "markdown",
     "metadata": {
      "slideshow": {
       "slide_start": true
      }
     },
     "source": [
      "---\n",
      "\n",
      "Monitor program progress\n",
      "------------------------\n",
      "\n",
      "### Python parses a datafile and makes plots of current progress\n",
      "\n",
      "![Log](../figures/log.png)\n"
     ]
    },
    {
     "cell_type": "markdown",
     "metadata": {
      "slideshow": {
       "slide_start": true
      }
     },
     "source": [
      "---\n",
      "\n",
      "Problem prototypes\n",
      "------------------\n",
      "\n",
      "### Nonlinear, time dependent problem\n",
      "\n",
      "![NonLinear problem](../figures/dsw.png)"
     ]
    },
    {
     "cell_type": "markdown",
     "metadata": {
      "slideshow": {
       "slide_start": true
      }
     },
     "source": [
      "---\n",
      "\n",
      "Problem prototypes\n",
      "------------------\n",
      "\n",
      "### Method for fitting surface to data\n",
      "\n",
      "![Prototypes](../figures/molt.png)\n"
     ]
    },
    {
     "cell_type": "markdown",
     "metadata": {
      "slideshow": {
       "slide_start": true
      }
     },
     "source": [
      "\n",
      "---\n",
      "\n",
      "Structural program\n",
      "------------------\n",
      "\n",
      "### Python manages floors and columns\n",
      "\n",
      "![Structural program](../figures/struct.png)"
     ]
    },
    {
     "cell_type": "markdown",
     "metadata": {
      "slideshow": {
       "slide_start": true
      }
     },
     "source": [
      "---\n",
      "\n",
      "Auto-generation of results\n",
      "--------------------------\n",
      "\n",
      "### Python runs C code, post-processes the results, and generates a LaTeX table\n",
      "\n",
      "![Result Generation](../figures/dpg.png)\n"
     ]
    },
    {
     "cell_type": "markdown",
     "metadata": {
      "slideshow": {
       "slide_start": true
      }
     },
     "source": [
      "\n",
      "---\n",
      "\n",
      "# A Tour of Python for Simple Scripting\n"
     ]
    },
    {
     "cell_type": "markdown",
     "metadata": {
      "slideshow": {
       "slide_start": true
      }
     },
     "source": [
      "---\n",
      "\n",
      "Script 1\n",
      "--------\n",
      "    "
     ]
    },
    {
     "cell_type": "code",
     "collapsed": false,
     "input": [
      "#!/usr/bin/env python\n",
      "import math\n",
      "r = math.pi / 2.0\n",
      "s = math.sin(r)\n",
      "print \"Hello world, sin(%f)=%f\" % (r,s)\n"
     ],
     "language": "python",
     "metadata": {
      "slideshow": {
       "slide_start": false,
       "slide_step": false
      }
     },
     "outputs": [
      {
       "output_type": "stream",
       "stream": "stdout",
       "text": [
        "Hello world, sin(1.570796)=1.000000\n"
       ]
      }
     ],
     "prompt_number": 2
    },
    {
     "cell_type": "markdown",
     "metadata": {
      "slideshow": {
       "slide_start": true
      }
     },
     "source": [
      "---\n",
      "\n",
      "Script 2\n",
      "--------\n",
      "    "
     ]
    },
    {
     "cell_type": "code",
     "collapsed": false,
     "input": [
      "import math\n",
      "infile = \"../examples/data/numbers\"\n",
      "outfile = \"../examples/data/f_numbers\"\n",
      "\n",
      "f = open(infile,'r')\n",
      "g = open(outfile,'w')\n",
      "\n",
      "def func(y):\n",
      "    if y >= 0.0:\n",
      "        return y**5.0*math.exp(-y)\n",
      "    else:\n",
      "        return 0.0\n",
      "    \n",
      "for line in f:\n",
      "    line = line.split()\n",
      "    x = float(line[0])\n",
      "    y = float(line[1])\n",
      "    fy = func(y)\n",
      "    g.write(\"%g %12.5e\\n\" % (x,fy))\n",
      "    \n",
      "f.close() \n",
      "g.close()\n"
     ],
     "language": "python",
     "metadata": {
      "slideshow": {
       "slide_start": false
      }
     },
     "outputs": [],
     "prompt_number": 5
    },
    {
     "cell_type": "markdown",
     "metadata": {
      "slideshow": {
       "slide_start": true
      }
     },
     "source": [
      "---\n",
      "\n",
      "Script 3\n",
      "--------\n",
      "    "
     ]
    },
    {
     "cell_type": "code",
     "collapsed": false,
     "input": [
      "import sys,os\n",
      "cmd = 'date'\n",
      "output = os.popen(cmd)\n",
      "lines = output.readlines()\n",
      "fail = output.close()\n",
      "if fail: print 'You do not have the date command'; sys.exit()\n",
      "for line in lines:\n",
      "    line = line.split()\n",
      "    print \"The current time is %s on %s %s, %s\" % (line[3],line[2],line[1],line[-1])"
     ],
     "language": "python",
     "metadata": {
      "slideshow": {
       "slide_start": false
      }
     },
     "outputs": [
      {
       "output_type": "stream",
       "stream": "stdout",
       "text": [
        "The current time is 10:14:20 on 4 Sep, 2014\n"
       ]
      }
     ],
     "prompt_number": 9
    },
    {
     "cell_type": "markdown",
     "metadata": {
      "slideshow": {
       "slide_start": true
      }
     },
     "source": [
      "---\n",
      "\n",
      "Script 4\n",
      "--------\n",
      "    "
     ]
    },
    {
     "cell_type": "markdown",
     "metadata": {
      "slideshow": {
       "slide_start": false
      }
     },
     "source": [
      "---\n",
      "\n",
      "A bib-file (see examples/data/python.bib)\n",
      "----------\n",
      "<!--====-->\n",
      "\n",
      "    @Book{Langtangen2011,\n",
      "      author = \t  {Hans Petter Langtangen},\n",
      "      title = \t  {A Primer on Scientific Programming with Python},\n",
      "      publisher = {Springer},\n",
      "      year = \t  {2011}\n",
      "    }\n",
      "    @Book{Langtangen2010,\n",
      "      author = \t  {Hans Petter Langtangen},\n",
      "      title = \t  {Python Scripting for Computational Science},\n",
      "      publisher = {Springer},\n",
      "      year = \t  {2010}\n",
      "    }\n"
     ]
    },
    {
     "cell_type": "code",
     "collapsed": false,
     "input": [
      "import re\n",
      "pattern1 = \"@Book{(.*),\"\n",
      "pattern2 = \"\\s+title\\s+=\\s+{(.*)},\"\n",
      "for line in file('../examples/data/python.bib'):\n",
      "    match = re.search(pattern1,line)\n",
      "    if match: \n",
      "        print \"Found a book with the tag '%s'\" % match.group(1)\n",
      "    match = re.search(pattern2,line)\n",
      "    if match:\n",
      "        print \"The title is '%s'\" % match.group(1)"
     ],
     "language": "python",
     "metadata": {
      "slideshow": {
       "slide_start": false
      }
     },
     "outputs": [
      {
       "output_type": "stream",
       "stream": "stdout",
       "text": [
        "Found a book with the tag 'Langtangen2011'\n",
        "The title is 'A Primer on Scientific Programming with Python'\n",
        "Found a book with the tag 'Langtangen2010'\n",
        "The title is 'Python Scripting for Computational Science'\n"
       ]
      }
     ],
     "prompt_number": 8
    },
    {
     "cell_type": "markdown",
     "metadata": {
      "slideshow": {
       "slide_start": true
      }
     },
     "source": [
      "---\n",
      "\n",
      "# A Tour of Python for Scientific Computing"
     ]
    },
    {
     "cell_type": "markdown",
     "metadata": {
      "slideshow": {
       "slide_start": true
      }
     },
     "source": [
      "---\n",
      "\n",
      "Arrays\n",
      "-------------------\n",
      "<!--====-->\n",
      "\n",
      "**Python** has built-in:\n",
      "\n",
      "containers: lists (costless insertion and append), dictionaries (fast lookup)  \n",
      "high-level number objects: integers, floating point  \n",
      "\n",
      "**Numpy** is:\n",
      "\n",
      "extension package to Python for multi-dimensional arrays  \n",
      "closer to hardware (efficiency)  \n",
      "designed for scientific computation (convenience)  \n"
     ]
    },
    {
     "cell_type": "code",
     "collapsed": false,
     "input": [
      "a = np.array([0,1,2,3,4])\n",
      "a"
     ],
     "language": "python",
     "metadata": {
      "slideshow": {
       "slide_start": true
      }
     },
     "outputs": [
      {
       "metadata": {},
       "output_type": "pyout",
       "prompt_number": 11,
       "text": [
        "array([0, 1, 2, 3, 4])"
       ]
      }
     ],
     "prompt_number": 11
    },
    {
     "cell_type": "code",
     "collapsed": false,
     "input": [
      "print a.ndim # Dimensionality\n",
      "print a.shape # Shape"
     ],
     "language": "python",
     "metadata": {
      "slideshow": {
       "slide_start": false,
       "slide_step": true
      }
     },
     "outputs": [
      {
       "output_type": "stream",
       "stream": "stdout",
       "text": [
        "1\n",
        "(5,)\n"
       ]
      }
     ],
     "prompt_number": 12
    },
    {
     "cell_type": "code",
     "collapsed": false,
     "input": [
      "b = np.array([[0, 1, 2], [3, 4, 5]])\n",
      "print b\n",
      "print b.ndim\n",
      "print b.shape"
     ],
     "language": "python",
     "metadata": {
      "slideshow": {
       "slide_start": false,
       "slide_step": true
      }
     },
     "outputs": [
      {
       "output_type": "stream",
       "stream": "stdout",
       "text": [
        "[[0 1 2]\n",
        " [3 4 5]]\n",
        "2\n",
        "(2, 3)\n"
       ]
      }
     ],
     "prompt_number": 13
    },
    {
     "cell_type": "markdown",
     "metadata": {
      "slideshow": {
       "slide_start": true
      }
     },
     "source": [
      "---\n",
      "\n",
      "Common Arrays\n",
      "-------------------\n",
      "<!--====-->\n"
     ]
    },
    {
     "cell_type": "code",
     "collapsed": false,
     "input": [
      "print np.arange(10) # Like range [0, 1, ..., 9]\n",
      "print np.arange(1,9, 2) # [1, 3, 5, 7]"
     ],
     "language": "python",
     "metadata": {
      "slideshow": {
       "slide_start": false,
       "slide_step": true
      }
     },
     "outputs": [
      {
       "output_type": "stream",
       "stream": "stdout",
       "text": [
        "[0 1 2 3 4 5 6 7 8 9]\n",
        "[1 3 5 7]\n"
       ]
      }
     ],
     "prompt_number": 14
    },
    {
     "cell_type": "code",
     "collapsed": false,
     "input": [
      "print np.linspace(0, 1, 6) # A linear space of [0,1] with 6 pts\n",
      "print np.linspace(0, 1, 6, endpoint=False) # [0,1["
     ],
     "language": "python",
     "metadata": {
      "slideshow": {
       "slide_start": false,
       "slide_step": true
      }
     },
     "outputs": [
      {
       "output_type": "stream",
       "stream": "stdout",
       "text": [
        "[ 0.   0.2  0.4  0.6  0.8  1. ]\n",
        "[ 0.          0.16666667  0.33333333  0.5         0.66666667  0.83333333]\n"
       ]
      }
     ],
     "prompt_number": 15
    },
    {
     "cell_type": "code",
     "collapsed": false,
     "input": [
      "print np.ones((3,3)) # 3 X 3 2D array of 1's"
     ],
     "language": "python",
     "metadata": {
      "slideshow": {
       "slide_start": false,
       "slide_step": true
      }
     },
     "outputs": [
      {
       "output_type": "stream",
       "stream": "stdout",
       "text": [
        "[[ 1.  1.  1.]\n",
        " [ 1.  1.  1.]\n",
        " [ 1.  1.  1.]]\n"
       ]
      }
     ],
     "prompt_number": 16
    },
    {
     "cell_type": "code",
     "collapsed": false,
     "input": [
      "print np.eye(3)"
     ],
     "language": "python",
     "metadata": {
      "slideshow": {
       "slide_start": true
      }
     },
     "outputs": [
      {
       "output_type": "stream",
       "stream": "stdout",
       "text": [
        "[[ 1.  0.  0.]\n",
        " [ 0.  1.  0.]\n",
        " [ 0.  0.  1.]]\n"
       ]
      }
     ],
     "prompt_number": 17
    },
    {
     "cell_type": "code",
     "collapsed": false,
     "input": [
      "print np.diag(arange(4))"
     ],
     "language": "python",
     "metadata": {
      "slideshow": {
       "slide_start": false,
       "slide_step": true
      }
     },
     "outputs": [
      {
       "output_type": "stream",
       "stream": "stdout",
       "text": [
        "[[0 0 0 0]\n",
        " [0 1 0 0]\n",
        " [0 0 2 0]\n",
        " [0 0 0 3]]\n"
       ]
      }
     ],
     "prompt_number": 18
    },
    {
     "cell_type": "code",
     "collapsed": false,
     "input": [
      "print np.random.rand(4) # Uniform distribution\n",
      "print np.random.randn(4) # Gaussian distribution"
     ],
     "language": "python",
     "metadata": {
      "slideshow": {
       "slide_start": false,
       "slide_step": true
      }
     },
     "outputs": [
      {
       "output_type": "stream",
       "stream": "stdout",
       "text": [
        "[ 0.9134486   0.7943014   0.40743464  0.8400922 ]\n",
        "[-0.05662066 -0.99363921  0.35042966 -0.29096857]\n"
       ]
      }
     ],
     "prompt_number": 21
    },
    {
     "cell_type": "code",
     "collapsed": false,
     "input": [
      "hist(np.random.rand(10000), bins=np.linspace(0, 1, 20, endpoint=False));"
     ],
     "language": "python",
     "metadata": {},
     "outputs": [
      {
       "metadata": {},
       "output_type": "display_data",
       "png": "[encoded data removed]",
       "text": [
        "<matplotlib.figure.Figure at 0x10437fc10>"
       ]
      }
     ],
     "prompt_number": 27
    },
    {
     "cell_type": "code",
     "collapsed": false,
     "input": [
      "hist(np.random.randn(50000), bins=np.linspace(-5, 5, 100, endpoint=False));"
     ],
     "language": "python",
     "metadata": {},
     "outputs": [
      {
       "metadata": {},
       "output_type": "display_data",
       "png": "[encoded data removed]",
       "text": [
        "<matplotlib.figure.Figure at 0x1046f3b10>"
       ]
      }
     ],
     "prompt_number": 35
    },
    {
     "cell_type": "markdown",
     "metadata": {
      "slideshow": {
       "slide_start": true
      }
     },
     "source": [
      "---\n",
      "## Other Numpy Features to be aware of\n",
      "<!--====-->\n",
      "\n",
      "* Reshaping"
     ]
    },
    {
     "cell_type": "code",
     "collapsed": false,
     "input": [
      "arr = np.arange(1000000)\n",
      "arr2 = arr.reshape((10,100000))\n",
      "print(arr2)"
     ],
     "language": "python",
     "metadata": {
      "slideshow": {
       "slide_start": false,
       "slide_step": true
      }
     },
     "outputs": [
      {
       "output_type": "stream",
       "stream": "stdout",
       "text": [
        "[[     0      1      2 ...,  99997  99998  99999]\n",
        " [100000 100001 100002 ..., 199997 199998 199999]\n",
        " [200000 200001 200002 ..., 299997 299998 299999]\n",
        " ..., \n",
        " [700000 700001 700002 ..., 799997 799998 799999]\n",
        " [800000 800001 800002 ..., 899997 899998 899999]\n",
        " [900000 900001 900002 ..., 999997 999998 999999]]\n"
       ]
      }
     ],
     "prompt_number": 36
    },
    {
     "cell_type": "markdown",
     "metadata": {
      "slideshow": {
       "slide_start": true
      }
     },
     "source": [
      "* Memory Views"
     ]
    },
    {
     "cell_type": "code",
     "collapsed": false,
     "input": [
      "arr2.view?"
     ],
     "language": "python",
     "metadata": {
      "slideshow": {
       "slide_start": false,
       "slide_step": true
      }
     },
     "outputs": [],
     "prompt_number": 37
    },
    {
     "cell_type": "markdown",
     "metadata": {
      "slideshow": {
       "slide_start": true
      }
     },
     "source": [
      "* Index Slicing"
     ]
    },
    {
     "cell_type": "code",
     "collapsed": false,
     "input": [
      "x = np.arange(0, 20, 2); y = x**2\n",
      "((y[1:] - y[:-1]) / (x[1:] - x[:-1])) # dy/dx"
     ],
     "language": "python",
     "metadata": {
      "slideshow": {
       "slide_start": false,
       "slide_step": true
      }
     },
     "outputs": [
      {
       "metadata": {},
       "output_type": "pyout",
       "prompt_number": 38,
       "text": [
        "array([ 2,  6, 10, 14, 18, 22, 26, 30, 34])"
       ]
      }
     ],
     "prompt_number": 38
    },
    {
     "cell_type": "markdown",
     "metadata": {
      "slideshow": {
       "slide_start": true
      }
     },
     "source": [
      "* Fancy Indexing"
     ]
    },
    {
     "cell_type": "code",
     "collapsed": false,
     "input": [
      "evens = arr[arr%2 == 0]\n",
      "print(evens)"
     ],
     "language": "python",
     "metadata": {
      "slideshow": {
       "slide_start": false,
       "slide_step": true
      }
     },
     "outputs": [
      {
       "output_type": "stream",
       "stream": "stdout",
       "text": [
        "[     0      2      4 ..., 999994 999996 999998]\n"
       ]
      }
     ],
     "prompt_number": 39
    },
    {
     "cell_type": "markdown",
     "metadata": {
      "slideshow": {
       "slide_start": true
      }
     },
     "source": [
      "---\n",
      "\n",
      "LinAlg, FFTs, and Random numbers\n",
      "-------------------\n",
      "<!--====-->"
     ]
    },
    {
     "cell_type": "code",
     "collapsed": false,
     "input": [
      "np.dot(arange(10), arange(10))"
     ],
     "language": "python",
     "metadata": {
      "slideshow": {
       "slide_start": false,
       "slide_step": true
      }
     },
     "outputs": [
      {
       "metadata": {},
       "output_type": "pyout",
       "prompt_number": 40,
       "text": [
        "285"
       ]
      }
     ],
     "prompt_number": 40
    },
    {
     "cell_type": "code",
     "collapsed": false,
     "input": [
      "np.dot(arange(9).reshape(3,3),\n",
      "    arange(9).reshape(3,3))"
     ],
     "language": "python",
     "metadata": {
      "slideshow": {
       "slide_start": false,
       "slide_step": true
      }
     },
     "outputs": [
      {
       "metadata": {},
       "output_type": "pyout",
       "prompt_number": 41,
       "text": [
        "array([[ 15,  18,  21],\n",
        "       [ 42,  54,  66],\n",
        "       [ 69,  90, 111]])"
       ]
      }
     ],
     "prompt_number": 41
    },
    {
     "cell_type": "code",
     "collapsed": false,
     "input": [
      "np.fft?"
     ],
     "language": "python",
     "metadata": {
      "slideshow": {
       "slide_start": true,
       "slide_step": true
      }
     },
     "outputs": [],
     "prompt_number": 42
    },
    {
     "cell_type": "code",
     "collapsed": false,
     "input": [
      "np.linalg?"
     ],
     "language": "python",
     "metadata": {
      "slideshow": {
       "slide_start": false,
       "slide_step": true
      }
     },
     "outputs": [],
     "prompt_number": 43
    },
    {
     "cell_type": "code",
     "collapsed": false,
     "input": [
      "np.random?"
     ],
     "language": "python",
     "metadata": {
      "slideshow": {
       "slide_start": false,
       "slide_step": true
      }
     },
     "outputs": [],
     "prompt_number": 23
    },
    {
     "cell_type": "markdown",
     "metadata": {
      "slideshow": {
       "slide_start": true
      }
     },
     "source": [
      "---\n",
      "\n",
      "Quick Visualization / MatPlotLib\n",
      "-------------------\n",
      "<!--====-->\n",
      "\n",
      "How quickly can we plot 10K numbers?\n"
     ]
    },
    {
     "cell_type": "code",
     "collapsed": false,
     "input": [
      "_ = hist(random.randn(100000), 100)"
     ],
     "language": "python",
     "metadata": {
      "slideshow": {
       "slide_start": false
      }
     },
     "outputs": [
      {
       "metadata": {},
       "output_type": "display_data",
       "png": "[encoded data removed]",
       "text": [
        "<matplotlib.figure.Figure at 0x104c70290>"
       ]
      }
     ],
     "prompt_number": 44
    },
    {
     "cell_type": "markdown",
     "metadata": {
      "slideshow": {
       "slide_start": true
      }
     },
     "source": [
      "---\n",
      "\n",
      "Basic Plotting\n",
      "-------------------\n",
      "<!--====-->\n"
     ]
    },
    {
     "cell_type": "code",
     "collapsed": false,
     "input": [
      "_ = plot(range(100))\n",
      "_ = xlabel(\"measured\")\n",
      "_ = ylabel(\"calculated\")\n",
      "grid(True)"
     ],
     "language": "python",
     "metadata": {
      "slideshow": {
       "slide_start": false
      }
     },
     "outputs": [
      {
       "metadata": {},
       "output_type": "display_data",
       "png": "[encoded data removed]",
       "text": [
        "<matplotlib.figure.Figure at 0x104c936d0>"
       ]
      }
     ],
     "prompt_number": 45
    },
    {
     "cell_type": "code",
     "collapsed": false,
     "input": [
      "x = [val*.01 for val in range(100)]  # [0, .01, .02, ..., .98, .99]\n",
      "linear = [val for val in x] \n",
      "square = [val**2 for val in x]\n",
      "_ = plot(x, linear, x, square)"
     ],
     "language": "python",
     "metadata": {
      "slideshow": {
       "slide_start": true
      }
     },
     "outputs": [
      {
       "metadata": {},
       "output_type": "display_data",
       "png": "[encoded data removed]",
       "text": [
        "<matplotlib.figure.Figure at 0x104eb7090>"
       ]
      }
     ],
     "prompt_number": 46
    },
    {
     "cell_type": "code",
     "collapsed": false,
     "input": [
      "num_vals = 10\n",
      "x = [float(val)/num_vals for val in range(num_vals)]  # [0, .01, .02, ..., .98, .99]\n",
      "linear = [val for val in x] \n",
      "square = [val**2 for val in x]\n",
      "_= plot(x, linear, 'g:+', x, square, 'r--o')"
     ],
     "language": "python",
     "metadata": {
      "slideshow": {
       "slide_start": true
      }
     },
     "outputs": [
      {
       "metadata": {},
       "output_type": "display_data",
       "png": "[encoded data removed]",
       "text": [
        "<matplotlib.figure.Figure at 0x104e043d0>"
       ]
      }
     ],
     "prompt_number": 47
    },
    {
     "cell_type": "code",
     "collapsed": false,
     "input": [
      "num_vals = 10\n",
      "x = [float(val)/num_vals for val in range(num_vals)]  # [0, .01, .02, ..., .98, .99]\n",
      "linear = [val for val in x] \n",
      "square = [val**2 for val in x]\n",
      "_ = plot(x, linear, 'g:+', x, square, 'r--o')\n",
      "_ = legend(('linear', 'square'), loc='upper left')"
     ],
     "language": "python",
     "metadata": {
      "slideshow": {
       "slide_start": true
      }
     },
     "outputs": [
      {
       "metadata": {},
       "output_type": "display_data",
       "png": "[encoded data removed]",
       "text": [
        "<matplotlib.figure.Figure at 0x104c96750>"
       ]
      }
     ],
     "prompt_number": 53
    },
    {
     "cell_type": "code",
     "collapsed": false,
     "input": [
      "_ = plot(linear)\n",
      "_ = axes([0.2, 0.5, 0.25, 0.25])\n",
      "_ = plot(square)"
     ],
     "language": "python",
     "metadata": {
      "slideshow": {
       "slide_start": true
      }
     },
     "outputs": [
      {
       "metadata": {},
       "output_type": "display_data",
       "png": "[encoded data removed]",
       "text": [
        "<matplotlib.figure.Figure at 0x1049f0e90>"
       ]
      }
     ],
     "prompt_number": 54
    },
    {
     "cell_type": "markdown",
     "metadata": {
      "slideshow": {
       "slide_start": true
      }
     },
     "source": [
      "---\n",
      "SciPy: Collection of High-Level Tools\n",
      "--------------------------------------\n",
      "\n",
      "* mathematical algorithms and convenience functions built on the Numpy,\n",
      "* organized into subpackages covering different scientific computing domains,\n",
      "* a data-processing and system-prototyping environment rivaling sytems such as MATLAB, IDL, Octave, R-Lab, and SciLab\n"
     ]
    },
    {
     "cell_type": "markdown",
     "metadata": {
      "slideshow": {
       "slide_start": true
      }
     },
     "source": [
      "---\n",
      "SciPy: Collection of High-Level Tools\n",
      "--------------------------------------\n",
      "\n",
      "* File IO (scipy.io)\n",
      "* Special functions (scipy.special)\n",
      "* Integration (scipy.integrate)\n",
      "* Optimization (scipy.optimize)\n",
      "* Interpolation (scipy.interpolate)\n",
      "* Fourier Transforms (scipy.fftpack)\n",
      "* Signal Processing (scipy.signal)\n",
      "* Linear Algebra (scipy.linalg)\n",
      "* Sparse Eigenvalue Problems with ARPACK\n",
      "* Statistics (scipy.stats)\n",
      "* Multi-dimensional image processing (scipy.ndimage)\n",
      "* Weave (scipy.weave)"
     ]
    },
    {
     "cell_type": "markdown",
     "metadata": {
      "slideshow": {
       "slide_start": true
      }
     },
     "source": [
      "---\n",
      "scipy.io\n",
      "--------\n",
      "\n"
     ]
    },
    {
     "cell_type": "code",
     "collapsed": false,
     "input": [
      "import scipy\n",
      "from scipy import io as spio\n",
      "a = np.ones((3, 3))\n",
      "spio.savemat('file.mat', {'a': a}) # savemat expects a dictionary\n",
      "data = spio.loadmat('file.mat', struct_as_record=True)\n",
      "data['a']\n"
     ],
     "language": "python",
     "metadata": {
      "slideshow": {
       "slide_start": false
      }
     },
     "outputs": [
      {
       "output_type": "stream",
       "stream": "stderr",
       "text": [
        "/Users/knepley/MacSoftware/lib/python2.7/site-packages/scipy/io/matlab/mio.py:267: FutureWarning: Using oned_as default value ('column') This will change to 'row' in future versions\n",
        "  oned_as=oned_as)\n"
       ]
      },
      {
       "metadata": {},
       "output_type": "pyout",
       "prompt_number": 55,
       "text": [
        "array([[ 1.,  1.,  1.],\n",
        "       [ 1.,  1.,  1.],\n",
        "       [ 1.,  1.,  1.]])"
       ]
      }
     ],
     "prompt_number": 55
    },
    {
     "cell_type": "markdown",
     "metadata": {
      "slideshow": {
       "slide_start": false,
       "slide_step": true
      }
     },
     "source": [
      "Also see:\n",
      "\n",
      "* Images\n",
      "* IDL Files\n",
      "* Matrix Market Files\n",
      "* Wav files"
     ]
    },
    {
     "cell_type": "markdown",
     "metadata": {
      "slideshow": {
       "slide_start": true
      }
     },
     "source": [
      "---\n",
      "scipy.special\n",
      "--------\n",
      "\n",
      "* Bessel function, such as scipy.special.jn() (nth integer order Bessel function)\n",
      "* Elliptic function (scipy.special.ellipj() for the Jacobian elliptic function, ...)\n",
      "* Gamma function: scipy.special.gamma(), also note scipy.special.gammaln() which will give the log of Gamma to a higher numerical precision.\n",
      "* Erf, the area under a Gaussian curve: scipy.special.erf()\n"
     ]
    },
    {
     "cell_type": "code",
     "collapsed": false,
     "input": [
      "from scipy.special import jn\n",
      "x = np.linspace(0, 1, 10)\n",
      "print [jn(val, 1.0) for val in x]\n"
     ],
     "language": "python",
     "metadata": {
      "slideshow": {
       "slide_start": false
      }
     },
     "outputs": [
      {
       "output_type": "stream",
       "stream": "stdout",
       "text": [
        "[0.76519768655796649, 0.77042135015704238, 0.75775886140714455, 0.73087640216944849, 0.69324418101264496, 0.64801456180958794, 0.59794997367362868, 0.54539073261127002, 0.49225331977915776, 0.44005058574493355]\n"
       ]
      }
     ],
     "prompt_number": 56
    },
    {
     "cell_type": "code",
     "collapsed": false,
     "input": [
      "from scipy import *\n",
      "from scipy.special import jn, jn_zeros\n",
      "def drumhead_height(n, k, distance, angle, t):\n",
      "    nth_zero = jn_zeros(n, k)\n",
      "    return cos(t)*cos(n*angle)*jn(n, distance*nth_zero)\n",
      "theta = r_[0:2*pi:50j]\n",
      "radius = r_[0:1:50j]\n",
      "x = array([r*cos(theta) for r in radius])\n",
      "y = array([r*sin(theta) for r in radius])\n",
      "z = array([drumhead_height(1, 1, r, theta, 0.5) for r in radius])"
     ],
     "language": "python",
     "metadata": {
      "slideshow": {
       "slide_start": false
      }
     },
     "outputs": [],
     "prompt_number": 57
    },
    {
     "cell_type": "code",
     "collapsed": false,
     "input": [
      "from mpl_toolkits.mplot3d import Axes3D\n",
      "from matplotlib import cm\n",
      "fig = pylab.figure()\n",
      "ax = Axes3D(fig)\n",
      "ax.plot_surface(x, y, z, rstride=1, cstride=1, cmap=cm.jet)\n",
      "_ = ax.set_xlabel('X')\n",
      "_ = ax.set_ylabel('Y')\n",
      "_ = ax.set_zlabel('Z')"
     ],
     "language": "python",
     "metadata": {
      "slideshow": {
       "slide_start": false
      }
     },
     "outputs": [
      {
       "metadata": {},
       "output_type": "display_data",
       "png": "[encoded data removed]",
       "text": [
        "<matplotlib.figure.Figure at 0x104e1de50>"
       ]
      }
     ],
     "prompt_number": 58
    },
    {
     "cell_type": "markdown",
     "metadata": {
      "slideshow": {
       "slide_start": true
      }
     },
     "source": [
      "---\n",
      "scipy.linalg\n",
      "--------\n",
      "\n",
      "* Matrix class (all routines still work with 2D NumPy arrays)\n",
      "* Basic Linear Algebra\n",
      "* Decompositions\n",
      "* Matrix Functions\n",
      "* Special matrices\n"
     ]
    },
    {
     "cell_type": "code",
     "collapsed": false,
     "input": [
      "A = sp.mat('[1 3 5; 2 5 1; 2 3 8]')\n",
      "A"
     ],
     "language": "python",
     "metadata": {
      "slideshow": {
       "slide_start": false,
       "slide_step": true
      }
     },
     "outputs": [
      {
       "metadata": {},
       "output_type": "pyout",
       "prompt_number": 59,
       "text": [
        "matrix([[1, 3, 5],\n",
        "        [2, 5, 1],\n",
        "        [2, 3, 8]])"
       ]
      }
     ],
     "prompt_number": 59
    },
    {
     "cell_type": "code",
     "collapsed": false,
     "input": [
      "A.I"
     ],
     "language": "python",
     "metadata": {
      "slideshow": {
       "slide_start": false,
       "slide_step": true
      }
     },
     "outputs": [
      {
       "metadata": {},
       "output_type": "pyout",
       "prompt_number": 60,
       "text": [
        "matrix([[-1.48,  0.36,  0.88],\n",
        "        [ 0.56,  0.08, -0.36],\n",
        "        [ 0.16, -0.12,  0.04]])"
       ]
      }
     ],
     "prompt_number": 60
    },
    {
     "cell_type": "code",
     "collapsed": false,
     "input": [
      "from scipy import linalg\n",
      "linalg.inv(A)"
     ],
     "language": "python",
     "metadata": {
      "slideshow": {
       "slide_start": true,
       "slide_step": true
      }
     },
     "outputs": [
      {
       "metadata": {},
       "output_type": "pyout",
       "prompt_number": 61,
       "text": [
        "array([[-1.48,  0.36,  0.88],\n",
        "       [ 0.56,  0.08, -0.36],\n",
        "       [ 0.16, -0.12,  0.04]])"
       ]
      }
     ],
     "prompt_number": 61
    },
    {
     "cell_type": "code",
     "collapsed": false,
     "input": [
      "linalg.svd(A)"
     ],
     "language": "python",
     "metadata": {
      "slideshow": {
       "slide_start": false,
       "slide_step": true
      }
     },
     "outputs": [
      {
       "metadata": {},
       "output_type": "pyout",
       "prompt_number": 62,
       "text": [
        "(array([[-0.52956045,  0.04298197, -0.84718255],\n",
        "        [-0.34647857, -0.92256717,  0.16977167],\n",
        "        [-0.77428569,  0.38343496,  0.50344742]]),\n",
        " array([ 11.13385134,   4.2134737 ,   0.53291053]),\n",
        " array([[-0.24888863, -0.50691635, -0.82528193],\n",
        "        [-0.24570758, -0.79117262,  0.56006577],\n",
        "        [ 0.93684696, -0.34217203, -0.07236068]]))"
       ]
      }
     ],
     "prompt_number": 62
    },
    {
     "cell_type": "code",
     "collapsed": false,
     "input": [
      "linalg.toeplitz([1,2,3],[1,2,4,5,6])"
     ],
     "language": "python",
     "metadata": {
      "slideshow": {
       "slide_start": false,
       "slide_step": true
      }
     },
     "outputs": [
      {
       "metadata": {},
       "output_type": "pyout",
       "prompt_number": 63,
       "text": [
        "array([[1, 2, 4, 5, 6],\n",
        "       [2, 1, 2, 4, 5],\n",
        "       [3, 2, 1, 2, 4]])"
       ]
      }
     ],
     "prompt_number": 63
    },
    {
     "cell_type": "markdown",
     "metadata": {
      "slideshow": {
       "slide_start": true
      }
     },
     "source": [
      "---\n",
      "## Pattern Formation Exercise\n",
      "\n",
      "This exercise has been adapted from an example by [David Ketcheson](http://www.davidketcheson.info/), KAUST"
     ]
    },
    {
     "cell_type": "markdown",
     "metadata": {
      "slideshow": {
       "slide_start": true,
       "slide_step": true
      }
     },
     "source": [
      "### 5 Point Laplace Operator\n",
      "We start by constructing a dense matrix representing our stencil operator applied to a vector"
     ]
    },
    {
     "cell_type": "code",
     "collapsed": false,
     "input": [
      "def five_pt_laplacian(m, a, b):\n",
      "    \"\"\"Construct a matrix that applies the 5-point Laplacian discretization\"\"\"\n",
      "    e=np.ones(m**2)\n",
      "    e2=([0]+[1]*(m-1))*m\n",
      "    h=(b-a)/(m+1)\n",
      "    A=np.diag(-4*e,0)+np.diag(e2[1:],-1)+np.diag(e2[1:],1)+np.diag(e[m:],m)+np.diag(e[m:],-m)\n",
      "    A/=h**2\n",
      "    return A\n",
      "\n",
      "five_pt_laplacian(8, 0.0, 1.0)"
     ],
     "language": "python",
     "metadata": {
      "slideshow": {
       "slide_start": false,
       "slide_step": false
      }
     },
     "outputs": [
      {
       "metadata": {},
       "output_type": "pyout",
       "prompt_number": 64,
       "text": [
        "array([[-324.,   81.,    0., ...,    0.,    0.,    0.],\n",
        "       [  81., -324.,   81., ...,    0.,    0.,    0.],\n",
        "       [   0.,   81., -324., ...,    0.,    0.,    0.],\n",
        "       ..., \n",
        "       [   0.,    0.,    0., ..., -324.,   81.,    0.],\n",
        "       [   0.,    0.,    0., ...,   81., -324.,   81.],\n",
        "       [   0.,    0.,    0., ...,    0.,   81., -324.]])"
       ]
      }
     ],
     "prompt_number": 64
    },
    {
     "cell_type": "markdown",
     "metadata": {
      "slideshow": {
       "slide_start": true
      }
     },
     "source": [
      "Alternatively we can constuct a sparse representation."
     ]
    },
    {
     "cell_type": "code",
     "collapsed": false,
     "input": [
      "from scipy.sparse import spdiags\n",
      "\n",
      "def five_pt_laplacian_sparse(m, a, b):\n",
      "    \"\"\"Construct a sparse matrix that applies the 5-point laplacian discretization\"\"\"\n",
      "    e=np.ones(m**2)\n",
      "    e2=([1]*(m-1)+[0])*m\n",
      "    e3=([0]+[1]*(m-1))*m\n",
      "    h=(b-a)/(m+1)\n",
      "    A=spdiags([-4*e,e2,e3,e,e],[0,-1,1,-m,m],m**2,m**2)\n",
      "    A/=h**2\n",
      "    return A\n",
      "\n",
      "A = five_pt_laplacian_sparse(8, 0.0, 1.0)\n",
      "A?"
     ],
     "language": "python",
     "metadata": {
      "slideshow": {
       "slide_start": false,
       "slide_step": false
      }
     },
     "outputs": [],
     "prompt_number": 65
    },
    {
     "cell_type": "markdown",
     "metadata": {
      "slideshow": {
       "slide_start": true
      }
     },
     "source": [
      "---\n",
      "\n",
      "## Pattern Formation Exercise"
     ]
    },
    {
     "cell_type": "code",
     "collapsed": true,
     "input": [
      "from IPython.display import clear_output\n",
      "\n",
      "\"\"\"Pattern formation code\n",
      "\n",
      "    Solves the pair of PDEs:\n",
      "       u_t = D_1 \\nabla^2 u + f(u,v)\n",
      "       v_t = D_2 \\nabla^2 v + g(u,v)\n",
      "\"\"\"\n",
      "\n",
      "#import matplotlib\n",
      "#matplotlib.use('TkAgg')\n",
      "import numpy as np\n",
      "#import matplotlib.pyplot as plt\n",
      "from scipy.sparse import spdiags,linalg,eye\n",
      "from time import sleep\n",
      "\n",
      "#Parameter values\n",
      "Du=0.500; Dv=1;\n",
      "delta=0.0045; tau1=0.02; tau2=0.2; alpha=0.899; beta=-0.91; gamma=-alpha;\n",
      "#delta=0.0045; tau1=0.02; tau2=0.2; alpha=1.9; beta=-0.91; gamma=-alpha;\n",
      "#delta=0.0045; tau1=2.02; tau2=0.; alpha=2.0; beta=-0.91; gamma=-alpha;\n",
      "#delta=0.0021; tau1=3.5; tau2=0; alpha=0.899; beta=-0.91; gamma=-alpha;\n",
      "#delta=0.0045; tau1=0.02; tau2=0.2; alpha=1.9; beta=-0.85; gamma=-alpha;\n",
      "#delta=0.0001; tau1=0.02; tau2=0.2; alpha=0.899; beta=-0.91; gamma=-alpha;\n",
      "#delta=0.0005; tau1=2.02; tau2=0.; alpha=2.0; beta=-0.91; gamma=-alpha; nx=150;\n",
      "\n",
      "#Define the reaction functions\n",
      "def f(u,v):\n",
      "    return alpha*u*(1-tau1*v**2) + v*(1-tau2*u);\n",
      "\n",
      "def g(u,v):\n",
      "    return beta*v*(1+alpha*tau1/beta*u*v) + u*(gamma+tau2*v);\n",
      "\n",
      "\n",
      "def five_pt_laplacian(m,a,b):\n",
      "    \"\"\"Construct a matrix that applies the 5-point laplacian discretization\"\"\"\n",
      "    e=np.ones(m**2)\n",
      "    e2=([0]+[1]*(m-1))*m\n",
      "    h=(b-a)/(m+1)\n",
      "    A=np.diag(-4*e,0)+np.diag(e2[1:],-1)+np.diag(e2[1:],1)+np.diag(e[m:],m)+np.diag(e[m:],-m)\n",
      "    A/=h**2\n",
      "    return A\n",
      "\n",
      "def five_pt_laplacian_sparse(m,a,b):\n",
      "    \"\"\"Construct a sparse matrix that applies the 5-point laplacian discretization\"\"\"\n",
      "    e=np.ones(m**2)\n",
      "    e2=([1]*(m-1)+[0])*m\n",
      "    e3=([0]+[1]*(m-1))*m\n",
      "    h=(b-a)/(m+1)\n",
      "    A=spdiags([-4*e,e2,e3,e,e],[0,-1,1,-m,m],m**2,m**2)\n",
      "    A/=h**2\n",
      "    return A\n",
      "\n",
      "# Set up the grid\n",
      "a=-1.; b=1.\n",
      "m=100; h=(b-a)/m; \n",
      "x = np.linspace(-1,1,m)\n",
      "y = np.linspace(-1,1,m)\n",
      "Y,X = np.meshgrid(y,x)\n",
      "\n",
      "# Initial data\n",
      "u=np.random.randn(m,m)/2.;\n",
      "v=np.random.randn(m,m)/2.;\n",
      "hold(False)\n",
      "plt.pcolormesh(x,y,u)\n",
      "plt.colorbar; plt.axis('image'); \n",
      "plt.draw()\n",
      "u=u.reshape(-1)\n",
      "v=v.reshape(-1)\n",
      "\n",
      "A=five_pt_laplacian_sparse(m,-1.,1.);\n",
      "II=eye(m*m,m*m)\n",
      "\n",
      "t=0.\n",
      "dt=h/delta/5.;\n",
      "fig, ax = plt.subplots()\n",
      "plt.colorbar\n",
      "\n",
      "#Now step forward in time\n",
      "for k in range(120):\n",
      "    #Simple (1st-order) operator splitting:\n",
      "    u = linalg.spsolve(II-dt*delta*Du*A,u)\n",
      "    v = linalg.spsolve(II-dt*delta*Dv*A,v)\n",
      "\n",
      "    unew=u+dt*f(u,v);\n",
      "    v   =v+dt*g(u,v);\n",
      "    u=unew;\n",
      "    t=t+dt;\n",
      "\n",
      "    #Plot every 3rd frame\n",
      "    if k/3==float(k)/3:\n",
      "        U=u.reshape((m,m))\n",
      "        ax.pcolormesh(x,y,U)\n",
      "        #ax.colorbar\n",
      "        ax.axis('image')\n",
      "        ax.set_title(str(t))\n",
      "        #ax.draw()\n",
      "        clear_output()\n",
      "        display(fig)\n",
      "\n",
      "plt.close()"
     ],
     "language": "python",
     "metadata": {
      "slideshow": {
       "slide_start": false
      }
     },
     "outputs": [
      {
       "metadata": {},
       "output_type": "display_data",
       "png": "[encoded data removed]",
       "text": [
        "<matplotlib.figure.Figure at 0x104e0ab50>"
       ]
      },
      {
       "metadata": {},
       "output_type": "display_data",
       "png": "[encoded data removed]",
       "text": [
        "<matplotlib.figure.Figure at 0x1049f7750>"
       ]
      }
     ],
     "prompt_number": 66
    }
   ],
   "metadata": {}
  }
 ]
}